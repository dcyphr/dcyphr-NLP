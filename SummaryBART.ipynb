{
  "nbformat": 4,
  "nbformat_minor": 0,
  "metadata": {
    "colab": {
      "name": "SummaryBART.ipynb",
      "provenance": [],
      "collapsed_sections": []
    },
    "kernelspec": {
      "name": "python3",
      "display_name": "Python 3"
    },
    "accelerator": "GPU"
  },
  "cells": [
    {
      "cell_type": "markdown",
      "metadata": {
        "id": "V0zxFlolZYeo"
      },
      "source": [
        "TO PREVENT CUDA OVERLOAD ERROR, PLEASE ERASE --fp16 form finetune.sh"
      ]
    },
    {
      "cell_type": "markdown",
      "metadata": {
        "id": "uGmlUZ6keNzC"
      },
      "source": [
        "Instructions for Use:\n",
        "1. Run notebook\n",
        "2. After installing the transformers repo , go to transformers/examples/seq2seq/finetuning.sh and erase the line saying --fp16\n",
        "3. After running the notebook, you can find the output at \n",
        " at transformers/examples/seq2seq/dbart_val_generation\n",
        "\n",
        "4. I have also loaded the model as model= ......\n",
        "You can use this model for summarisation tasks too.\n",
        "\n"
      ]
    },
    {
      "cell_type": "code",
      "metadata": {
        "id": "iGe2oG_aj4m1",
        "outputId": "447ff264-2931-4696-ffc6-cf37518e1942",
        "colab": {
          "base_uri": "https://localhost:8080/",
          "height": 34
        }
      },
      "source": [
        "%%bash\n",
        "python --version"
      ],
      "execution_count": null,
      "outputs": [
        {
          "output_type": "stream",
          "text": [
            "Python 3.6.9\n"
          ],
          "name": "stdout"
        }
      ]
    },
    {
      "cell_type": "code",
      "metadata": {
        "id": "MPoI1pagaEfc",
        "outputId": "81ac694d-c776-4e93-e0f9-c11eb16e3515",
        "colab": {
          "base_uri": "https://localhost:8080/",
          "height": 34
        }
      },
      "source": [
        "%%bash\n",
        "cd /content/\n",
        "git clone https://github.com/dcyphr/dcyphr-NLP.git"
      ],
      "execution_count": null,
      "outputs": [
        {
          "output_type": "stream",
          "text": [
            "Cloning into 'dcyphr-NLP'...\n"
          ],
          "name": "stderr"
        }
      ]
    },
    {
      "cell_type": "code",
      "metadata": {
        "id": "7UIUTdW71oun",
        "outputId": "42d6a9ae-9acb-413c-80bb-bc946a55fcbf",
        "colab": {
          "base_uri": "https://localhost:8080/",
          "height": 768
        }
      },
      "source": [
        "%%bash\n",
        "git clone https://github.com/huggingface/transformers.git\n",
        "cd transformers\n",
        "pip install ."
      ],
      "execution_count": null,
      "outputs": [
        {
          "output_type": "stream",
          "text": [
            "Processing /content/transformers\n",
            "  Installing build dependencies: started\n",
            "  Installing build dependencies: finished with status 'done'\n",
            "  Getting requirements to build wheel: started\n",
            "  Getting requirements to build wheel: finished with status 'done'\n",
            "    Preparing wheel metadata: started\n",
            "    Preparing wheel metadata: finished with status 'done'\n",
            "Collecting sentencepiece!=0.1.92\n",
            "  Downloading https://files.pythonhosted.org/packages/d4/a4/d0a884c4300004a78cca907a6ff9a5e9fe4f090f5d95ab341c53d28cbc58/sentencepiece-0.1.91-cp36-cp36m-manylinux1_x86_64.whl (1.1MB)\n",
            "Requirement already satisfied: filelock in /usr/local/lib/python3.6/dist-packages (from transformers==3.3.1) (3.0.12)\n",
            "Requirement already satisfied: numpy in /usr/local/lib/python3.6/dist-packages (from transformers==3.3.1) (1.18.5)\n",
            "Requirement already satisfied: tqdm>=4.27 in /usr/local/lib/python3.6/dist-packages (from transformers==3.3.1) (4.41.1)\n",
            "Requirement already satisfied: dataclasses; python_version < \"3.7\" in /usr/local/lib/python3.6/dist-packages (from transformers==3.3.1) (0.7)\n",
            "Collecting tokenizers==0.8.1.rc2\n",
            "  Downloading https://files.pythonhosted.org/packages/80/83/8b9fccb9e48eeb575ee19179e2bdde0ee9a1904f97de5f02d19016b8804f/tokenizers-0.8.1rc2-cp36-cp36m-manylinux1_x86_64.whl (3.0MB)\n",
            "Requirement already satisfied: packaging in /usr/local/lib/python3.6/dist-packages (from transformers==3.3.1) (20.4)\n",
            "Requirement already satisfied: requests in /usr/local/lib/python3.6/dist-packages (from transformers==3.3.1) (2.23.0)\n",
            "Requirement already satisfied: regex!=2019.12.17 in /usr/local/lib/python3.6/dist-packages (from transformers==3.3.1) (2019.12.20)\n",
            "Collecting sacremoses\n",
            "  Downloading https://files.pythonhosted.org/packages/7d/34/09d19aff26edcc8eb2a01bed8e98f13a1537005d31e95233fd48216eed10/sacremoses-0.0.43.tar.gz (883kB)\n",
            "Requirement already satisfied: six in /usr/local/lib/python3.6/dist-packages (from packaging->transformers==3.3.1) (1.15.0)\n",
            "Requirement already satisfied: pyparsing>=2.0.2 in /usr/local/lib/python3.6/dist-packages (from packaging->transformers==3.3.1) (2.4.7)\n",
            "Requirement already satisfied: urllib3!=1.25.0,!=1.25.1,<1.26,>=1.21.1 in /usr/local/lib/python3.6/dist-packages (from requests->transformers==3.3.1) (1.24.3)\n",
            "Requirement already satisfied: idna<3,>=2.5 in /usr/local/lib/python3.6/dist-packages (from requests->transformers==3.3.1) (2.10)\n",
            "Requirement already satisfied: chardet<4,>=3.0.2 in /usr/local/lib/python3.6/dist-packages (from requests->transformers==3.3.1) (3.0.4)\n",
            "Requirement already satisfied: certifi>=2017.4.17 in /usr/local/lib/python3.6/dist-packages (from requests->transformers==3.3.1) (2020.6.20)\n",
            "Requirement already satisfied: click in /usr/local/lib/python3.6/dist-packages (from sacremoses->transformers==3.3.1) (7.1.2)\n",
            "Requirement already satisfied: joblib in /usr/local/lib/python3.6/dist-packages (from sacremoses->transformers==3.3.1) (0.16.0)\n",
            "Building wheels for collected packages: transformers\n",
            "  Building wheel for transformers (PEP 517): started\n",
            "  Building wheel for transformers (PEP 517): finished with status 'done'\n",
            "  Created wheel for transformers: filename=transformers-3.3.1-cp36-none-any.whl size=1081044 sha256=8cd6c2671fd66938e3d46341b2a18a70ff48d3319e5653c2ae2499c666ce97c6\n",
            "  Stored in directory: /tmp/pip-ephem-wheel-cache-plvrsen5/wheels/23/19/dd/2561a4e47240cf6b307729d58e56f8077dd0c698f5992216cf\n",
            "Successfully built transformers\n",
            "Building wheels for collected packages: sacremoses\n",
            "  Building wheel for sacremoses (setup.py): started\n",
            "  Building wheel for sacremoses (setup.py): finished with status 'done'\n",
            "  Created wheel for sacremoses: filename=sacremoses-0.0.43-cp36-none-any.whl size=893257 sha256=0095ce1944c57146dd4d11a17134405b18f5b1de7f1aa66df7dbeb66130d793f\n",
            "  Stored in directory: /root/.cache/pip/wheels/29/3c/fd/7ce5c3f0666dab31a50123635e6fb5e19ceb42ce38d4e58f45\n",
            "Successfully built sacremoses\n",
            "Installing collected packages: sentencepiece, tokenizers, sacremoses, transformers\n",
            "Successfully installed sacremoses-0.0.43 sentencepiece-0.1.91 tokenizers-0.8.1rc2 transformers-3.3.1\n"
          ],
          "name": "stdout"
        },
        {
          "output_type": "stream",
          "text": [
            "Cloning into 'transformers'...\n"
          ],
          "name": "stderr"
        }
      ]
    },
    {
      "cell_type": "code",
      "metadata": {
        "id": "c3end1B_E9vf",
        "outputId": "d2c8a441-ea50-45b5-b2b4-eb24ee000e38",
        "colab": {
          "base_uri": "https://localhost:8080/",
          "height": 1000
        }
      },
      "source": [
        "%%bash\n",
        "\n",
        "cd transformers\n",
        "cd examples\n",
        "ls\n",
        "\n",
        "pip install -r requirements.txt"
      ],
      "execution_count": null,
      "outputs": [
        {
          "output_type": "stream",
          "text": [
            "adversarial\n",
            "benchmarking\n",
            "bert-loses-patience\n",
            "bertology\n",
            "conftest.py\n",
            "contrib\n",
            "deebert\n",
            "distillation\n",
            "language-modeling\n",
            "lightning_base.py\n",
            "longform-qa\n",
            "lxmert\n",
            "movement-pruning\n",
            "multiple-choice\n",
            "question-answering\n",
            "rag\n",
            "README.md\n",
            "requirements.txt\n",
            "seq2seq\n",
            "test_examples.py\n",
            "test_xla_examples.py\n",
            "text-classification\n",
            "text-generation\n",
            "token-classification\n",
            "xla_spawn.py\n",
            "Requirement already satisfied: tensorboard in /usr/local/lib/python3.6/dist-packages (from -r requirements.txt (line 1)) (2.3.0)\n",
            "Requirement already satisfied: scikit-learn in /usr/local/lib/python3.6/dist-packages (from -r requirements.txt (line 2)) (0.22.2.post1)\n",
            "Collecting seqeval\n",
            "  Downloading https://files.pythonhosted.org/packages/d8/9d/89d9ac5d6506f8368ba5ae53b054cf26bf796935eff6a1945431c7a5d485/seqeval-0.0.17.tar.gz\n",
            "Requirement already satisfied: psutil in /usr/local/lib/python3.6/dist-packages (from -r requirements.txt (line 4)) (5.4.8)\n",
            "Collecting sacrebleu\n",
            "  Downloading https://files.pythonhosted.org/packages/a3/c4/8e948f601a4f9609e8b2b58f31966cb13cf17b940b82aa3e767f01c42c52/sacrebleu-1.4.14-py3-none-any.whl (64kB)\n",
            "Collecting rouge-score\n",
            "  Downloading https://files.pythonhosted.org/packages/1f/56/a81022436c08b9405a5247b71635394d44fe7e1dbedc4b28c740e09c2840/rouge_score-0.0.4-py2.py3-none-any.whl\n",
            "Requirement already satisfied: tensorflow_datasets in /usr/local/lib/python3.6/dist-packages (from -r requirements.txt (line 7)) (2.1.0)\n",
            "Collecting pytorch-lightning==0.8.5\n",
            "  Downloading https://files.pythonhosted.org/packages/32/64/65a5bd6b0c286217f2e53bb067c4099c0584a8eff1d229046b9a35ae3e26/pytorch_lightning-0.8.5-py3-none-any.whl (313kB)\n",
            "Requirement already satisfied: matplotlib in /usr/local/lib/python3.6/dist-packages (from -r requirements.txt (line 9)) (3.2.2)\n",
            "Collecting git-python==1.0.3\n",
            "  Downloading https://files.pythonhosted.org/packages/8a/de/0cc6353a45cdb1e137cffac5383097b300cc578e2e1133eeb847e23a1394/git_python-1.0.3-py2.py3-none-any.whl\n",
            "Collecting faiss-cpu\n",
            "  Downloading https://files.pythonhosted.org/packages/1d/84/9de38703486d9f00b1a63590887a318d08c52f10f768968bd7626aee75da/faiss_cpu-1.6.3-cp36-cp36m-manylinux2010_x86_64.whl (7.2MB)\n",
            "Collecting streamlit\n",
            "  Downloading https://files.pythonhosted.org/packages/6c/0d/bb0bd245beeeee38a19286718069ffeef1c651106cd4bbebae9091e4fc1f/streamlit-0.67.1-py2.py3-none-any.whl (7.2MB)\n",
            "Collecting elasticsearch\n",
            "  Downloading https://files.pythonhosted.org/packages/e4/b7/f8f03019089671486e2910282c1b6fce26ccc8a513322df72ac8994ab2de/elasticsearch-7.9.1-py2.py3-none-any.whl (219kB)\n",
            "Requirement already satisfied: nltk in /usr/local/lib/python3.6/dist-packages (from -r requirements.txt (line 14)) (3.2.5)\n",
            "Requirement already satisfied: pandas in /usr/local/lib/python3.6/dist-packages (from -r requirements.txt (line 15)) (1.1.2)\n",
            "Collecting datasets\n",
            "  Downloading https://files.pythonhosted.org/packages/83/7e/8d9e2fd30e3819e6042927d379f3668a0b49fe38b92d5639194808a1d877/datasets-1.0.2-py3-none-any.whl (1.8MB)\n",
            "Collecting fire\n",
            "  Downloading https://files.pythonhosted.org/packages/34/a7/0e22e70778aca01a52b9c899d9c145c6396d7b613719cd63db97ffa13f2f/fire-0.3.1.tar.gz (81kB)\n",
            "Requirement already satisfied: pytest in /usr/local/lib/python3.6/dist-packages (from -r requirements.txt (line 18)) (3.6.4)\n",
            "Collecting conllu\n",
            "  Downloading https://files.pythonhosted.org/packages/89/02/e5a55ac2c88166996d13871217206ef0f022479354b39a3ab47aad538a5d/conllu-4.2-py2.py3-none-any.whl\n",
            "Requirement already satisfied: werkzeug>=0.11.15 in /usr/local/lib/python3.6/dist-packages (from tensorboard->-r requirements.txt (line 1)) (1.0.1)\n",
            "Requirement already satisfied: requests<3,>=2.21.0 in /usr/local/lib/python3.6/dist-packages (from tensorboard->-r requirements.txt (line 1)) (2.23.0)\n",
            "Requirement already satisfied: grpcio>=1.24.3 in /usr/local/lib/python3.6/dist-packages (from tensorboard->-r requirements.txt (line 1)) (1.32.0)\n",
            "Requirement already satisfied: absl-py>=0.4 in /usr/local/lib/python3.6/dist-packages (from tensorboard->-r requirements.txt (line 1)) (0.10.0)\n",
            "Requirement already satisfied: google-auth-oauthlib<0.5,>=0.4.1 in /usr/local/lib/python3.6/dist-packages (from tensorboard->-r requirements.txt (line 1)) (0.4.1)\n",
            "Requirement already satisfied: six>=1.10.0 in /usr/local/lib/python3.6/dist-packages (from tensorboard->-r requirements.txt (line 1)) (1.15.0)\n",
            "Requirement already satisfied: tensorboard-plugin-wit>=1.6.0 in /usr/local/lib/python3.6/dist-packages (from tensorboard->-r requirements.txt (line 1)) (1.7.0)\n",
            "Requirement already satisfied: numpy>=1.12.0 in /usr/local/lib/python3.6/dist-packages (from tensorboard->-r requirements.txt (line 1)) (1.18.5)\n",
            "Requirement already satisfied: protobuf>=3.6.0 in /usr/local/lib/python3.6/dist-packages (from tensorboard->-r requirements.txt (line 1)) (3.12.4)\n",
            "Requirement already satisfied: setuptools>=41.0.0 in /usr/local/lib/python3.6/dist-packages (from tensorboard->-r requirements.txt (line 1)) (50.3.0)\n",
            "Requirement already satisfied: google-auth<2,>=1.6.3 in /usr/local/lib/python3.6/dist-packages (from tensorboard->-r requirements.txt (line 1)) (1.17.2)\n",
            "Requirement already satisfied: wheel>=0.26; python_version >= \"3\" in /usr/local/lib/python3.6/dist-packages (from tensorboard->-r requirements.txt (line 1)) (0.35.1)\n",
            "Requirement already satisfied: markdown>=2.6.8 in /usr/local/lib/python3.6/dist-packages (from tensorboard->-r requirements.txt (line 1)) (3.2.2)\n",
            "Requirement already satisfied: scipy>=0.17.0 in /usr/local/lib/python3.6/dist-packages (from scikit-learn->-r requirements.txt (line 2)) (1.4.1)\n",
            "Requirement already satisfied: joblib>=0.11 in /usr/local/lib/python3.6/dist-packages (from scikit-learn->-r requirements.txt (line 2)) (0.16.0)\n",
            "Requirement already satisfied: Keras>=2.2.4 in /usr/local/lib/python3.6/dist-packages (from seqeval->-r requirements.txt (line 3)) (2.4.3)\n",
            "Collecting portalocker\n",
            "  Downloading https://files.pythonhosted.org/packages/89/a6/3814b7107e0788040870e8825eebf214d72166adf656ba7d4bf14759a06a/portalocker-2.0.0-py2.py3-none-any.whl\n",
            "Requirement already satisfied: promise in /usr/local/lib/python3.6/dist-packages (from tensorflow_datasets->-r requirements.txt (line 7)) (2.3)\n",
            "Requirement already satisfied: future in /usr/local/lib/python3.6/dist-packages (from tensorflow_datasets->-r requirements.txt (line 7)) (0.16.0)\n",
            "Requirement already satisfied: wrapt in /usr/local/lib/python3.6/dist-packages (from tensorflow_datasets->-r requirements.txt (line 7)) (1.12.1)\n",
            "Requirement already satisfied: dill in /usr/local/lib/python3.6/dist-packages (from tensorflow_datasets->-r requirements.txt (line 7)) (0.3.2)\n",
            "Requirement already satisfied: tensorflow-metadata in /usr/local/lib/python3.6/dist-packages (from tensorflow_datasets->-r requirements.txt (line 7)) (0.24.0)\n",
            "Requirement already satisfied: termcolor in /usr/local/lib/python3.6/dist-packages (from tensorflow_datasets->-r requirements.txt (line 7)) (1.1.0)\n",
            "Requirement already satisfied: tqdm in /usr/local/lib/python3.6/dist-packages (from tensorflow_datasets->-r requirements.txt (line 7)) (4.41.1)\n",
            "Requirement already satisfied: attrs>=18.1.0 in /usr/local/lib/python3.6/dist-packages (from tensorflow_datasets->-r requirements.txt (line 7)) (20.2.0)\n",
            "Requirement already satisfied: torch>=1.3 in /usr/local/lib/python3.6/dist-packages (from pytorch-lightning==0.8.5->-r requirements.txt (line 8)) (1.6.0+cu101)\n",
            "Collecting PyYAML>=5.1\n",
            "  Downloading https://files.pythonhosted.org/packages/64/c2/b80047c7ac2478f9501676c988a5411ed5572f35d1beff9cae07d321512c/PyYAML-5.3.1.tar.gz (269kB)\n",
            "Requirement already satisfied: python-dateutil>=2.1 in /usr/local/lib/python3.6/dist-packages (from matplotlib->-r requirements.txt (line 9)) (2.8.1)\n",
            "Requirement already satisfied: cycler>=0.10 in /usr/local/lib/python3.6/dist-packages (from matplotlib->-r requirements.txt (line 9)) (0.10.0)\n",
            "Requirement already satisfied: pyparsing!=2.0.4,!=2.1.2,!=2.1.6,>=2.0.1 in /usr/local/lib/python3.6/dist-packages (from matplotlib->-r requirements.txt (line 9)) (2.4.7)\n",
            "Requirement already satisfied: kiwisolver>=1.0.1 in /usr/local/lib/python3.6/dist-packages (from matplotlib->-r requirements.txt (line 9)) (1.2.0)\n",
            "Collecting gitpython\n",
            "  Downloading https://files.pythonhosted.org/packages/09/bc/ae32e07e89cc25b9e5c793d19a1e5454d30a8e37d95040991160f942519e/GitPython-3.1.8-py3-none-any.whl (159kB)\n",
            "Requirement already satisfied: cachetools>=4.0 in /usr/local/lib/python3.6/dist-packages (from streamlit->-r requirements.txt (line 12)) (4.1.1)\n",
            "Requirement already satisfied: packaging in /usr/local/lib/python3.6/dist-packages (from streamlit->-r requirements.txt (line 12)) (20.4)\n",
            "Collecting botocore>=1.13.44\n",
            "  Downloading https://files.pythonhosted.org/packages/34/74/88e40850f9f698b280ff11b387313bea34560c61a61be5e1fcd60b790aa9/botocore-1.18.9-py2.py3-none-any.whl (6.7MB)\n",
            "Requirement already satisfied: astor in /usr/local/lib/python3.6/dist-packages (from streamlit->-r requirements.txt (line 12)) (0.8.1)\n",
            "Requirement already satisfied: altair>=3.2.0 in /usr/local/lib/python3.6/dist-packages (from streamlit->-r requirements.txt (line 12)) (4.1.0)\n",
            "Collecting blinker\n",
            "  Downloading https://files.pythonhosted.org/packages/1b/51/e2a9f3b757eb802f61dc1f2b09c8c99f6eb01cf06416c0671253536517b6/blinker-1.4.tar.gz (111kB)\n",
            "Collecting validators\n",
            "  Downloading https://files.pythonhosted.org/packages/41/4a/3360ff3cf2b4a1b9721ac1fbff5f84663f41047d9874b3aa1ac82e862c44/validators-0.18.1-py3-none-any.whl\n",
            "Requirement already satisfied: tzlocal in /usr/local/lib/python3.6/dist-packages (from streamlit->-r requirements.txt (line 12)) (1.5.1)\n",
            "Collecting pydeck>=0.1.dev5\n",
            "  Downloading https://files.pythonhosted.org/packages/51/1e/296f4108bf357e684617a776ecaf06ee93b43e30c35996dfac1aa985aa6c/pydeck-0.5.0b1-py2.py3-none-any.whl (4.4MB)\n",
            "Collecting boto3\n",
            "  Downloading https://files.pythonhosted.org/packages/d2/5a/7abee53ad5a686b2785de6e4d2cdad628662c4f34dbb520b3cb2a88c10e4/boto3-1.15.9-py2.py3-none-any.whl (129kB)\n",
            "Requirement already satisfied: toml in /usr/local/lib/python3.6/dist-packages (from streamlit->-r requirements.txt (line 12)) (0.10.1)\n",
            "Collecting enum-compat\n",
            "  Downloading https://files.pythonhosted.org/packages/55/ae/467bc4509246283bb59746e21a1a2f5a8aecbef56b1fa6eaca78cd438c8b/enum_compat-0.0.3-py3-none-any.whl\n",
            "Requirement already satisfied: pillow>=6.2.0 in /usr/local/lib/python3.6/dist-packages (from streamlit->-r requirements.txt (line 12)) (7.0.0)\n",
            "Collecting watchdog\n",
            "  Downloading https://files.pythonhosted.org/packages/0e/06/121302598a4fc01aca942d937f4a2c33430b7181137b35758913a8db10ad/watchdog-0.10.3.tar.gz (94kB)\n",
            "Requirement already satisfied: click>=7.0 in /usr/local/lib/python3.6/dist-packages (from streamlit->-r requirements.txt (line 12)) (7.1.2)\n",
            "Collecting base58\n",
            "  Downloading https://files.pythonhosted.org/packages/3c/03/58572025c77b9e6027155b272a1b96298e711cd4f95c24967f7137ab0c4b/base58-2.0.1-py3-none-any.whl\n",
            "Requirement already satisfied: tornado>=5.0 in /usr/local/lib/python3.6/dist-packages (from streamlit->-r requirements.txt (line 12)) (5.1.1)\n",
            "Requirement already satisfied: pyarrow in /usr/local/lib/python3.6/dist-packages (from streamlit->-r requirements.txt (line 12)) (0.14.1)\n",
            "Requirement already satisfied: certifi in /usr/local/lib/python3.6/dist-packages (from elasticsearch->-r requirements.txt (line 13)) (2020.6.20)\n",
            "Requirement already satisfied: urllib3>=1.21.1 in /usr/local/lib/python3.6/dist-packages (from elasticsearch->-r requirements.txt (line 13)) (1.24.3)\n",
            "Requirement already satisfied: pytz>=2017.2 in /usr/local/lib/python3.6/dist-packages (from pandas->-r requirements.txt (line 15)) (2018.9)\n",
            "Requirement already satisfied: filelock in /usr/local/lib/python3.6/dist-packages (from datasets->-r requirements.txt (line 16)) (3.0.12)\n",
            "Requirement already satisfied: dataclasses; python_version < \"3.7\" in /usr/local/lib/python3.6/dist-packages (from datasets->-r requirements.txt (line 16)) (0.7)\n",
            "Collecting xxhash\n",
            "  Downloading https://files.pythonhosted.org/packages/f7/73/826b19f3594756cb1c6c23d2fbd8ca6a77a9cd3b650c9dec5acc85004c38/xxhash-2.0.0-cp36-cp36m-manylinux2010_x86_64.whl (242kB)\n",
            "Requirement already satisfied: atomicwrites>=1.0 in /usr/local/lib/python3.6/dist-packages (from pytest->-r requirements.txt (line 18)) (1.4.0)\n",
            "Requirement already satisfied: py>=1.5.0 in /usr/local/lib/python3.6/dist-packages (from pytest->-r requirements.txt (line 18)) (1.9.0)\n",
            "Requirement already satisfied: pluggy<0.8,>=0.5 in /usr/local/lib/python3.6/dist-packages (from pytest->-r requirements.txt (line 18)) (0.7.1)\n",
            "Requirement already satisfied: more-itertools>=4.0.0 in /usr/local/lib/python3.6/dist-packages (from pytest->-r requirements.txt (line 18)) (8.5.0)\n",
            "Requirement already satisfied: idna<3,>=2.5 in /usr/local/lib/python3.6/dist-packages (from requests<3,>=2.21.0->tensorboard->-r requirements.txt (line 1)) (2.10)\n",
            "Requirement already satisfied: chardet<4,>=3.0.2 in /usr/local/lib/python3.6/dist-packages (from requests<3,>=2.21.0->tensorboard->-r requirements.txt (line 1)) (3.0.4)\n",
            "Requirement already satisfied: requests-oauthlib>=0.7.0 in /usr/local/lib/python3.6/dist-packages (from google-auth-oauthlib<0.5,>=0.4.1->tensorboard->-r requirements.txt (line 1)) (1.3.0)\n",
            "Requirement already satisfied: pyasn1-modules>=0.2.1 in /usr/local/lib/python3.6/dist-packages (from google-auth<2,>=1.6.3->tensorboard->-r requirements.txt (line 1)) (0.2.8)\n",
            "Requirement already satisfied: rsa<5,>=3.1.4; python_version >= \"3\" in /usr/local/lib/python3.6/dist-packages (from google-auth<2,>=1.6.3->tensorboard->-r requirements.txt (line 1)) (4.6)\n",
            "Requirement already satisfied: importlib-metadata; python_version < \"3.8\" in /usr/local/lib/python3.6/dist-packages (from markdown>=2.6.8->tensorboard->-r requirements.txt (line 1)) (2.0.0)\n",
            "Requirement already satisfied: h5py in /usr/local/lib/python3.6/dist-packages (from Keras>=2.2.4->seqeval->-r requirements.txt (line 3)) (2.10.0)\n",
            "Requirement already satisfied: googleapis-common-protos<2,>=1.52.0 in /usr/local/lib/python3.6/dist-packages (from tensorflow-metadata->tensorflow_datasets->-r requirements.txt (line 7)) (1.52.0)\n",
            "Collecting gitdb<5,>=4.0.1\n",
            "  Downloading https://files.pythonhosted.org/packages/48/11/d1800bca0a3bae820b84b7d813ad1eff15a48a64caea9c823fc8c1b119e8/gitdb-4.0.5-py3-none-any.whl (63kB)\n",
            "Collecting jmespath<1.0.0,>=0.7.1\n",
            "  Downloading https://files.pythonhosted.org/packages/07/cb/5f001272b6faeb23c1c9e0acc04d48eaaf5c862c17709d20e3469c6e0139/jmespath-0.10.0-py2.py3-none-any.whl\n",
            "Requirement already satisfied: toolz in /usr/local/lib/python3.6/dist-packages (from altair>=3.2.0->streamlit->-r requirements.txt (line 12)) (0.11.1)\n",
            "Requirement already satisfied: entrypoints in /usr/local/lib/python3.6/dist-packages (from altair>=3.2.0->streamlit->-r requirements.txt (line 12)) (0.3)\n",
            "Requirement already satisfied: jinja2 in /usr/local/lib/python3.6/dist-packages (from altair>=3.2.0->streamlit->-r requirements.txt (line 12)) (2.11.2)\n",
            "Requirement already satisfied: jsonschema in /usr/local/lib/python3.6/dist-packages (from altair>=3.2.0->streamlit->-r requirements.txt (line 12)) (2.6.0)\n",
            "Requirement already satisfied: decorator>=3.4.0 in /usr/local/lib/python3.6/dist-packages (from validators->streamlit->-r requirements.txt (line 12)) (4.4.2)\n",
            "Requirement already satisfied: traitlets>=4.3.2 in /usr/local/lib/python3.6/dist-packages (from pydeck>=0.1.dev5->streamlit->-r requirements.txt (line 12)) (4.3.3)\n",
            "Requirement already satisfied: ipywidgets>=7.0.0 in /usr/local/lib/python3.6/dist-packages (from pydeck>=0.1.dev5->streamlit->-r requirements.txt (line 12)) (7.5.1)\n",
            "Collecting ipykernel>=5.1.2; python_version >= \"3.4\"\n",
            "  Downloading https://files.pythonhosted.org/packages/52/19/c2812690d8b340987eecd2cbc18549b1d130b94c5d97fcbe49f5f8710edf/ipykernel-5.3.4-py3-none-any.whl (120kB)\n",
            "Collecting s3transfer<0.4.0,>=0.3.0\n",
            "  Downloading https://files.pythonhosted.org/packages/69/79/e6afb3d8b0b4e96cefbdc690f741d7dd24547ff1f94240c997a26fa908d3/s3transfer-0.3.3-py2.py3-none-any.whl (69kB)\n",
            "Collecting pathtools>=0.1.1\n",
            "  Downloading https://files.pythonhosted.org/packages/e7/7f/470d6fcdf23f9f3518f6b0b76be9df16dcc8630ad409947f8be2eb0ed13a/pathtools-0.1.2.tar.gz\n",
            "Requirement already satisfied: oauthlib>=3.0.0 in /usr/local/lib/python3.6/dist-packages (from requests-oauthlib>=0.7.0->google-auth-oauthlib<0.5,>=0.4.1->tensorboard->-r requirements.txt (line 1)) (3.1.0)\n",
            "Requirement already satisfied: pyasn1<0.5.0,>=0.4.6 in /usr/local/lib/python3.6/dist-packages (from pyasn1-modules>=0.2.1->google-auth<2,>=1.6.3->tensorboard->-r requirements.txt (line 1)) (0.4.8)\n",
            "Requirement already satisfied: zipp>=0.5 in /usr/local/lib/python3.6/dist-packages (from importlib-metadata; python_version < \"3.8\"->markdown>=2.6.8->tensorboard->-r requirements.txt (line 1)) (3.2.0)\n",
            "Collecting smmap<4,>=3.0.1\n",
            "  Downloading https://files.pythonhosted.org/packages/b0/9a/4d409a6234eb940e6a78dfdfc66156e7522262f5f2fecca07dc55915952d/smmap-3.0.4-py2.py3-none-any.whl\n",
            "Requirement already satisfied: MarkupSafe>=0.23 in /usr/local/lib/python3.6/dist-packages (from jinja2->altair>=3.2.0->streamlit->-r requirements.txt (line 12)) (1.1.1)\n",
            "Requirement already satisfied: ipython-genutils in /usr/local/lib/python3.6/dist-packages (from traitlets>=4.3.2->pydeck>=0.1.dev5->streamlit->-r requirements.txt (line 12)) (0.2.0)\n",
            "Requirement already satisfied: widgetsnbextension~=3.5.0 in /usr/local/lib/python3.6/dist-packages (from ipywidgets>=7.0.0->pydeck>=0.1.dev5->streamlit->-r requirements.txt (line 12)) (3.5.1)\n",
            "Requirement already satisfied: ipython>=4.0.0; python_version >= \"3.3\" in /usr/local/lib/python3.6/dist-packages (from ipywidgets>=7.0.0->pydeck>=0.1.dev5->streamlit->-r requirements.txt (line 12)) (5.5.0)\n",
            "Requirement already satisfied: nbformat>=4.2.0 in /usr/local/lib/python3.6/dist-packages (from ipywidgets>=7.0.0->pydeck>=0.1.dev5->streamlit->-r requirements.txt (line 12)) (5.0.7)\n",
            "Requirement already satisfied: jupyter-client in /usr/local/lib/python3.6/dist-packages (from ipykernel>=5.1.2; python_version >= \"3.4\"->pydeck>=0.1.dev5->streamlit->-r requirements.txt (line 12)) (5.3.5)\n",
            "Requirement already satisfied: notebook>=4.4.1 in /usr/local/lib/python3.6/dist-packages (from widgetsnbextension~=3.5.0->ipywidgets>=7.0.0->pydeck>=0.1.dev5->streamlit->-r requirements.txt (line 12)) (5.3.1)\n",
            "Requirement already satisfied: simplegeneric>0.8 in /usr/local/lib/python3.6/dist-packages (from ipython>=4.0.0; python_version >= \"3.3\"->ipywidgets>=7.0.0->pydeck>=0.1.dev5->streamlit->-r requirements.txt (line 12)) (0.8.1)\n",
            "Requirement already satisfied: pygments in /usr/local/lib/python3.6/dist-packages (from ipython>=4.0.0; python_version >= \"3.3\"->ipywidgets>=7.0.0->pydeck>=0.1.dev5->streamlit->-r requirements.txt (line 12)) (2.6.1)\n",
            "Requirement already satisfied: pexpect; sys_platform != \"win32\" in /usr/local/lib/python3.6/dist-packages (from ipython>=4.0.0; python_version >= \"3.3\"->ipywidgets>=7.0.0->pydeck>=0.1.dev5->streamlit->-r requirements.txt (line 12)) (4.8.0)\n",
            "Requirement already satisfied: pickleshare in /usr/local/lib/python3.6/dist-packages (from ipython>=4.0.0; python_version >= \"3.3\"->ipywidgets>=7.0.0->pydeck>=0.1.dev5->streamlit->-r requirements.txt (line 12)) (0.7.5)\n",
            "Requirement already satisfied: prompt-toolkit<2.0.0,>=1.0.4 in /usr/local/lib/python3.6/dist-packages (from ipython>=4.0.0; python_version >= \"3.3\"->ipywidgets>=7.0.0->pydeck>=0.1.dev5->streamlit->-r requirements.txt (line 12)) (1.0.18)\n",
            "Requirement already satisfied: jupyter-core in /usr/local/lib/python3.6/dist-packages (from nbformat>=4.2.0->ipywidgets>=7.0.0->pydeck>=0.1.dev5->streamlit->-r requirements.txt (line 12)) (4.6.3)\n",
            "Requirement already satisfied: pyzmq>=13 in /usr/local/lib/python3.6/dist-packages (from jupyter-client->ipykernel>=5.1.2; python_version >= \"3.4\"->pydeck>=0.1.dev5->streamlit->-r requirements.txt (line 12)) (19.0.2)\n",
            "Requirement already satisfied: nbconvert in /usr/local/lib/python3.6/dist-packages (from notebook>=4.4.1->widgetsnbextension~=3.5.0->ipywidgets>=7.0.0->pydeck>=0.1.dev5->streamlit->-r requirements.txt (line 12)) (5.6.1)\n",
            "Requirement already satisfied: Send2Trash in /usr/local/lib/python3.6/dist-packages (from notebook>=4.4.1->widgetsnbextension~=3.5.0->ipywidgets>=7.0.0->pydeck>=0.1.dev5->streamlit->-r requirements.txt (line 12)) (1.5.0)\n",
            "Requirement already satisfied: terminado>=0.8.1 in /usr/local/lib/python3.6/dist-packages (from notebook>=4.4.1->widgetsnbextension~=3.5.0->ipywidgets>=7.0.0->pydeck>=0.1.dev5->streamlit->-r requirements.txt (line 12)) (0.9.1)\n",
            "Requirement already satisfied: ptyprocess>=0.5 in /usr/local/lib/python3.6/dist-packages (from pexpect; sys_platform != \"win32\"->ipython>=4.0.0; python_version >= \"3.3\"->ipywidgets>=7.0.0->pydeck>=0.1.dev5->streamlit->-r requirements.txt (line 12)) (0.6.0)\n",
            "Requirement already satisfied: wcwidth in /usr/local/lib/python3.6/dist-packages (from prompt-toolkit<2.0.0,>=1.0.4->ipython>=4.0.0; python_version >= \"3.3\"->ipywidgets>=7.0.0->pydeck>=0.1.dev5->streamlit->-r requirements.txt (line 12)) (0.2.5)\n",
            "Requirement already satisfied: testpath in /usr/local/lib/python3.6/dist-packages (from nbconvert->notebook>=4.4.1->widgetsnbextension~=3.5.0->ipywidgets>=7.0.0->pydeck>=0.1.dev5->streamlit->-r requirements.txt (line 12)) (0.4.4)\n",
            "Requirement already satisfied: mistune<2,>=0.8.1 in /usr/local/lib/python3.6/dist-packages (from nbconvert->notebook>=4.4.1->widgetsnbextension~=3.5.0->ipywidgets>=7.0.0->pydeck>=0.1.dev5->streamlit->-r requirements.txt (line 12)) (0.8.4)\n",
            "Requirement already satisfied: bleach in /usr/local/lib/python3.6/dist-packages (from nbconvert->notebook>=4.4.1->widgetsnbextension~=3.5.0->ipywidgets>=7.0.0->pydeck>=0.1.dev5->streamlit->-r requirements.txt (line 12)) (3.2.1)\n",
            "Requirement already satisfied: defusedxml in /usr/local/lib/python3.6/dist-packages (from nbconvert->notebook>=4.4.1->widgetsnbextension~=3.5.0->ipywidgets>=7.0.0->pydeck>=0.1.dev5->streamlit->-r requirements.txt (line 12)) (0.6.0)\n",
            "Requirement already satisfied: pandocfilters>=1.4.1 in /usr/local/lib/python3.6/dist-packages (from nbconvert->notebook>=4.4.1->widgetsnbextension~=3.5.0->ipywidgets>=7.0.0->pydeck>=0.1.dev5->streamlit->-r requirements.txt (line 12)) (1.4.2)\n",
            "Requirement already satisfied: webencodings in /usr/local/lib/python3.6/dist-packages (from bleach->nbconvert->notebook>=4.4.1->widgetsnbextension~=3.5.0->ipywidgets>=7.0.0->pydeck>=0.1.dev5->streamlit->-r requirements.txt (line 12)) (0.5.1)\n",
            "Building wheels for collected packages: seqeval, fire, PyYAML, blinker, watchdog, pathtools\n",
            "  Building wheel for seqeval (setup.py): started\n",
            "  Building wheel for seqeval (setup.py): finished with status 'done'\n",
            "  Created wheel for seqeval: filename=seqeval-0.0.17-cp36-none-any.whl size=7640 sha256=7ac98b1473b9a95383bc7fe323b2a1767ddeabd309b3ff48b6b503e8174c7889\n",
            "  Stored in directory: /root/.cache/pip/wheels/6a/c8/cf/7b9d5d52984c08ce4d27d6f858a682ef74a3738f43f489166a\n",
            "  Building wheel for fire (setup.py): started\n",
            "  Building wheel for fire (setup.py): finished with status 'done'\n",
            "  Created wheel for fire: filename=fire-0.3.1-py2.py3-none-any.whl size=111005 sha256=5d8253f5f0c81ba326b539407466d70de67c55200255c16cb1eadca2e211ca64\n",
            "  Stored in directory: /root/.cache/pip/wheels/c1/61/df/768b03527bf006b546dce284eb4249b185669e65afc5fbb2ac\n",
            "  Building wheel for PyYAML (setup.py): started\n",
            "  Building wheel for PyYAML (setup.py): finished with status 'done'\n",
            "  Created wheel for PyYAML: filename=PyYAML-5.3.1-cp36-cp36m-linux_x86_64.whl size=44619 sha256=cd2fcd440f1c69ea7b5331bdbf693b12868477f12638ea1791388d33b13a408b\n",
            "  Stored in directory: /root/.cache/pip/wheels/a7/c1/ea/cf5bd31012e735dc1dfea3131a2d5eae7978b251083d6247bd\n",
            "  Building wheel for blinker (setup.py): started\n",
            "  Building wheel for blinker (setup.py): finished with status 'done'\n",
            "  Created wheel for blinker: filename=blinker-1.4-cp36-none-any.whl size=13450 sha256=6c56c7bf4f4cba2003263f4432c9e7adec5c7c1c17336734cd42e677a4ef8b29\n",
            "  Stored in directory: /root/.cache/pip/wheels/92/a0/00/8690a57883956a301d91cf4ec999cc0b258b01e3f548f86e89\n",
            "  Building wheel for watchdog (setup.py): started\n",
            "  Building wheel for watchdog (setup.py): finished with status 'done'\n",
            "  Created wheel for watchdog: filename=watchdog-0.10.3-cp36-none-any.whl size=73873 sha256=a3d106260ba89792ea683121c965ff608dabe864ff21c05b6914626aafd0c202\n",
            "  Stored in directory: /root/.cache/pip/wheels/a8/1d/38/2c19bb311f67cc7b4d07a2ec5ea36ab1a0a0ea50db994a5bc7\n",
            "  Building wheel for pathtools (setup.py): started\n",
            "  Building wheel for pathtools (setup.py): finished with status 'done'\n",
            "  Created wheel for pathtools: filename=pathtools-0.1.2-cp36-none-any.whl size=8785 sha256=b9935796acfff12d0ed7a5b74a9896269f349c2f6abb47c9b1c7816103e73592\n",
            "  Stored in directory: /root/.cache/pip/wheels/0b/04/79/c3b0c3a0266a3cb4376da31e5bfe8bba0c489246968a68e843\n",
            "Successfully built seqeval fire PyYAML blinker watchdog pathtools\n",
            "Installing collected packages: seqeval, portalocker, sacrebleu, rouge-score, PyYAML, pytorch-lightning, smmap, gitdb, gitpython, git-python, faiss-cpu, jmespath, botocore, blinker, validators, ipykernel, pydeck, s3transfer, boto3, enum-compat, pathtools, watchdog, base58, streamlit, elasticsearch, xxhash, datasets, fire, conllu\n",
            "  Found existing installation: PyYAML 3.13\n",
            "    Uninstalling PyYAML-3.13:\n",
            "      Successfully uninstalled PyYAML-3.13\n",
            "  Found existing installation: ipykernel 4.10.1\n",
            "    Uninstalling ipykernel-4.10.1:\n",
            "      Successfully uninstalled ipykernel-4.10.1\n",
            "Successfully installed PyYAML-5.3.1 base58-2.0.1 blinker-1.4 boto3-1.15.9 botocore-1.18.9 conllu-4.2 datasets-1.0.2 elasticsearch-7.9.1 enum-compat-0.0.3 faiss-cpu-1.6.3 fire-0.3.1 git-python-1.0.3 gitdb-4.0.5 gitpython-3.1.8 ipykernel-5.3.4 jmespath-0.10.0 pathtools-0.1.2 portalocker-2.0.0 pydeck-0.5.0b1 pytorch-lightning-0.8.5 rouge-score-0.0.4 s3transfer-0.3.3 sacrebleu-1.4.14 seqeval-0.0.17 smmap-3.0.4 streamlit-0.67.1 validators-0.18.1 watchdog-0.10.3 xxhash-2.0.0\n"
          ],
          "name": "stdout"
        },
        {
          "output_type": "stream",
          "text": [
            "ERROR: google-colab 1.0.0 has requirement ipykernel~=4.10, but you'll have ipykernel 5.3.4 which is incompatible.\n",
            "ERROR: pytorch-lightning 0.8.5 has requirement future>=0.17.1, but you'll have future 0.16.0 which is incompatible.\n",
            "ERROR: datasets 1.0.2 has requirement pyarrow>=0.17.1, but you'll have pyarrow 0.14.1 which is incompatible.\n"
          ],
          "name": "stderr"
        }
      ]
    },
    {
      "cell_type": "code",
      "metadata": {
        "id": "sOrWsz3MlVb9",
        "outputId": "389a5f61-54fe-4361-d9cf-43e5ff9d9fc8",
        "colab": {
          "base_uri": "https://localhost:8080/",
          "height": 224
        }
      },
      "source": [
        "!pip install pyarrow==0.16.0"
      ],
      "execution_count": null,
      "outputs": [
        {
          "output_type": "stream",
          "text": [
            "Collecting pyarrow==0.16.0\n",
            "\u001b[?25l  Downloading https://files.pythonhosted.org/packages/00/d2/695bab1e1e7a4554b6dbd287d55cca096214bd441037058a432afd724bb1/pyarrow-0.16.0-cp36-cp36m-manylinux2014_x86_64.whl (63.1MB)\n",
            "\u001b[K     |████████████████████████████████| 63.2MB 46kB/s \n",
            "\u001b[?25hRequirement already satisfied: numpy>=1.14 in /usr/local/lib/python3.6/dist-packages (from pyarrow==0.16.0) (1.18.5)\n",
            "Requirement already satisfied: six>=1.0.0 in /usr/local/lib/python3.6/dist-packages (from pyarrow==0.16.0) (1.15.0)\n",
            "\u001b[31mERROR: datasets 1.0.2 has requirement pyarrow>=0.17.1, but you'll have pyarrow 0.16.0 which is incompatible.\u001b[0m\n",
            "Installing collected packages: pyarrow\n",
            "  Found existing installation: pyarrow 0.14.1\n",
            "    Uninstalling pyarrow-0.14.1:\n",
            "      Successfully uninstalled pyarrow-0.14.1\n",
            "Successfully installed pyarrow-0.16.0\n"
          ],
          "name": "stdout"
        }
      ]
    },
    {
      "cell_type": "code",
      "metadata": {
        "id": "dc48Udgnq7ED",
        "outputId": "42031f82-fa16-4aa2-b2ea-469123bea9cd",
        "colab": {
          "base_uri": "https://localhost:8080/",
          "height": 1000
        }
      },
      "source": [
        "%%bash\n",
        "\n",
        "cd transformers\n",
        "cd examples\n",
        "cd seq2seq\n",
        "\n",
        "\n",
        "\n",
        "\n",
        "./finetune.sh \\\n",
        "    --data_dir /content/dcyphr-NLP/fine_tuning_data/ \\\n",
        "    --train_batch_size=1 \\\n",
        "    --eval_batch_size=1 \\\n",
        "    --output_dir=xsum_results \\\n",
        "    --num_train_epochs 1 \\\n",
        "    --n_train 100 \\\n",
        "    --n_val 100 \\\n",
        "    --model_name_or_path facebook/bart-large-cnn\n",
        "\n"
      ],
      "execution_count": null,
      "outputs": [
        {
          "output_type": "stream",
          "text": [
            "\rValidation sanity check: 0it [00:00, ?it/s]\rValidation sanity check:  50%|█████     | 1/2 [00:02<00:02,  2.80s/it]\rValidation sanity check: 100%|██████████| 2/2 [00:04<00:00,  2.54s/it]\r                                                                      \r\rTraining: 0it [00:00, ?it/s]\rTraining:   0%|          | 0/300 [00:00<?, ?it/s]\rEpoch 1:   0%|          | 0/300 [00:00<?, ?it/s] \rEpoch 1:   0%|          | 1/300 [00:00<03:21,  1.48it/s]\rEpoch 1:   0%|          | 1/300 [00:00<03:21,  1.48it/s, loss=3.562, v_num=0]\rEpoch 1:   1%|          | 2/300 [00:01<02:31,  1.96it/s, loss=3.562, v_num=0]\rEpoch 1:   1%|          | 2/300 [00:01<02:31,  1.96it/s, loss=2.830, v_num=0]\rEpoch 1:   1%|          | 3/300 [00:01<02:10,  2.28it/s, loss=2.830, v_num=0]\rEpoch 1:   1%|          | 3/300 [00:01<02:10,  2.28it/s, loss=2.524, v_num=0]\rEpoch 1:   1%|▏         | 4/300 [00:01<02:16,  2.18it/s, loss=2.524, v_num=0]\rEpoch 1:   1%|▏         | 4/300 [00:01<02:16,  2.18it/s, loss=2.449, v_num=0]\rEpoch 1:   2%|▏         | 5/300 [00:02<02:22,  2.07it/s, loss=2.449, v_num=0]\rEpoch 1:   2%|▏         | 5/300 [00:02<02:22,  2.07it/s, loss=2.677, v_num=0]\rEpoch 1:   2%|▏         | 6/300 [00:02<02:10,  2.25it/s, loss=2.677, v_num=0]\rEpoch 1:   2%|▏         | 6/300 [00:02<02:10,  2.25it/s, loss=2.651, v_num=0]\rEpoch 1:   2%|▏         | 7/300 [00:03<02:15,  2.16it/s, loss=2.651, v_num=0]\rEpoch 1:   2%|▏         | 7/300 [00:03<02:15,  2.16it/s, loss=2.624, v_num=0]\rEpoch 1:   3%|▎         | 8/300 [00:03<02:20,  2.08it/s, loss=2.624, v_num=0]\rEpoch 1:   3%|▎         | 8/300 [00:03<02:20,  2.08it/s, loss=2.625, v_num=0]\rEpoch 1:   3%|▎         | 9/300 [00:04<02:13,  2.19it/s, loss=2.625, v_num=0]\rEpoch 1:   3%|▎         | 9/300 [00:04<02:13,  2.19it/s, loss=2.524, v_num=0]\rEpoch 1:   3%|▎         | 10/300 [00:04<02:12,  2.18it/s, loss=2.524, v_num=0]\rEpoch 1:   3%|▎         | 10/300 [00:04<02:12,  2.18it/s, loss=2.430, v_num=0]\n",
            "\rValidating: 0it [00:00, ?it/s]\u001b[A\n",
            "\rValidating:   5%|▌         | 1/20 [00:02<00:42,  2.24s/it]\u001b[A\rEpoch 1:   4%|▎         | 11/300 [00:06<02:59,  1.61it/s, loss=2.430, v_num=0]\n",
            "\rValidating:  10%|█         | 2/20 [00:04<00:38,  2.16s/it]\u001b[A\rEpoch 1:   4%|▍         | 12/300 [00:08<03:31,  1.36it/s, loss=2.430, v_num=0]\n",
            "\rValidating:  15%|█▌        | 3/20 [00:06<00:37,  2.18s/it]\u001b[A\rEpoch 1:   4%|▍         | 13/300 [00:11<04:03,  1.18it/s, loss=2.430, v_num=0]\n",
            "\rValidating:  20%|██        | 4/20 [00:08<00:34,  2.17s/it]\u001b[A\rEpoch 1:   5%|▍         | 14/300 [00:13<04:29,  1.06it/s, loss=2.430, v_num=0]\n",
            "\rValidating:  25%|██▌       | 5/20 [00:10<00:31,  2.08s/it]\u001b[A\rEpoch 1:   5%|▌         | 15/300 [00:15<04:45,  1.00s/it, loss=2.430, v_num=0]\n",
            "\rValidating:  30%|███       | 6/20 [00:12<00:28,  2.05s/it]\u001b[A\rEpoch 1:   5%|▌         | 16/300 [00:17<05:02,  1.07s/it, loss=2.430, v_num=0]\n",
            "\rValidating:  35%|███▌      | 7/20 [00:14<00:27,  2.10s/it]\u001b[A\rEpoch 1:   6%|▌         | 17/300 [00:19<05:20,  1.13s/it, loss=2.430, v_num=0]\n",
            "\rValidating:  40%|████      | 8/20 [00:16<00:24,  2.06s/it]\u001b[A\rEpoch 1:   6%|▌         | 18/300 [00:21<05:32,  1.18s/it, loss=2.430, v_num=0]\n",
            "\rValidating:  45%|████▌     | 9/20 [00:19<00:24,  2.24s/it]\u001b[A\rEpoch 1:   6%|▋         | 19/300 [00:23<05:52,  1.26s/it, loss=2.430, v_num=0]\n",
            "\rValidating:  50%|█████     | 10/20 [00:21<00:21,  2.18s/it]\u001b[A\rEpoch 1:   7%|▋         | 20/300 [00:25<06:02,  1.30s/it, loss=2.430, v_num=0]\n",
            "\rValidating:  55%|█████▌    | 11/20 [00:23<00:20,  2.24s/it]\u001b[A\rEpoch 1:   7%|▋         | 21/300 [00:28<06:16,  1.35s/it, loss=2.430, v_num=0]\n",
            "\rValidating:  60%|██████    | 12/20 [00:25<00:17,  2.24s/it]\u001b[A\rEpoch 1:   7%|▋         | 22/300 [00:30<06:25,  1.39s/it, loss=2.430, v_num=0]\n",
            "\rValidating:  65%|██████▌   | 13/20 [00:28<00:15,  2.26s/it]\u001b[A\rEpoch 1:   8%|▊         | 23/300 [00:32<06:35,  1.43s/it, loss=2.430, v_num=0]\n",
            "\rValidating:  70%|███████   | 14/20 [00:30<00:12,  2.13s/it]\u001b[A\rEpoch 1:   8%|▊         | 24/300 [00:34<06:38,  1.45s/it, loss=2.430, v_num=0]\n",
            "\rValidating:  75%|███████▌  | 15/20 [00:32<00:10,  2.18s/it]\u001b[A\rEpoch 1:   8%|▊         | 25/300 [00:36<06:46,  1.48s/it, loss=2.430, v_num=0]\n",
            "\rValidating:  80%|████████  | 16/20 [00:34<00:08,  2.17s/it]\u001b[A\rEpoch 1:   9%|▊         | 26/300 [00:39<06:52,  1.50s/it, loss=2.430, v_num=0]\n",
            "\rValidating:  85%|████████▌ | 17/20 [00:36<00:06,  2.11s/it]\u001b[A\rEpoch 1:   9%|▉         | 27/300 [00:41<06:55,  1.52s/it, loss=2.430, v_num=0]\n",
            "\rValidating:  90%|█████████ | 18/20 [00:38<00:04,  2.19s/it]\u001b[A\rEpoch 1:   9%|▉         | 28/300 [00:43<07:02,  1.55s/it, loss=2.430, v_num=0]\n",
            "\rValidating:  95%|█████████▌| 19/20 [00:40<00:02,  2.10s/it]\u001b[A\rEpoch 1:  10%|▉         | 29/300 [00:45<07:03,  1.56s/it, loss=2.430, v_num=0]\n",
            "\rValidating: 100%|██████████| 20/20 [00:42<00:00,  2.12s/it]\u001b[A\rEpoch 1:  10%|█         | 30/300 [00:47<07:07,  1.58s/it, loss=2.430, v_num=0]\rEpoch 1:  10%|█         | 30/300 [02:59<26:53,  5.98s/it, loss=2.430, v_num=0]\n",
            "\r                                                           \u001b[A\rEpoch 1:  10%|█         | 31/300 [03:00<26:03,  5.81s/it, loss=2.430, v_num=0]\rEpoch 1:  10%|█         | 31/300 [03:00<26:03,  5.81s/it, loss=2.549, v_num=0]\rEpoch 1:  11%|█         | 32/300 [03:00<25:13,  5.65s/it, loss=2.549, v_num=0]\rEpoch 1:  11%|█         | 32/300 [03:00<25:13,  5.65s/it, loss=2.537, v_num=0]\rEpoch 1:  11%|█         | 33/300 [03:01<24:24,  5.49s/it, loss=2.537, v_num=0]\rEpoch 1:  11%|█         | 33/300 [03:01<24:24,  5.49s/it, loss=2.517, v_num=0]\rEpoch 1:  11%|█▏        | 34/300 [03:01<23:41,  5.34s/it, loss=2.517, v_num=0]\rEpoch 1:  11%|█▏        | 34/300 [03:01<23:41,  5.34s/it, loss=2.405, v_num=0]\rEpoch 1:  12%|█▏        | 35/300 [03:01<22:57,  5.20s/it, loss=2.405, v_num=0]\rEpoch 1:  12%|█▏        | 35/300 [03:01<22:57,  5.20s/it, loss=2.375, v_num=0]\rEpoch 1:  12%|█▏        | 36/300 [03:02<22:16,  5.06s/it, loss=2.375, v_num=0]\rEpoch 1:  12%|█▏        | 36/300 [03:02<22:16,  5.06s/it, loss=2.277, v_num=0]\rEpoch 1:  12%|█▏        | 37/300 [03:02<21:40,  4.94s/it, loss=2.277, v_num=0]\rEpoch 1:  12%|█▏        | 37/300 [03:02<21:40,  4.94s/it, loss=2.224, v_num=0]\rEpoch 1:  13%|█▎        | 38/300 [03:03<21:03,  4.82s/it, loss=2.224, v_num=0]\rEpoch 1:  13%|█▎        | 38/300 [03:03<21:03,  4.82s/it, loss=2.363, v_num=0]\rEpoch 1:  13%|█▎        | 39/300 [03:03<20:29,  4.71s/it, loss=2.363, v_num=0]\rEpoch 1:  13%|█▎        | 39/300 [03:03<20:29,  4.71s/it, loss=2.368, v_num=0]\rEpoch 1:  13%|█▎        | 40/300 [03:04<19:56,  4.60s/it, loss=2.368, v_num=0]\rEpoch 1:  13%|█▎        | 40/300 [03:04<19:56,  4.60s/it, loss=2.374, v_num=0]\n",
            "\rValidating: 0it [00:00, ?it/s]\u001b[A\n",
            "\rValidating:   5%|▌         | 1/20 [00:02<00:47,  2.50s/it]\u001b[A\rEpoch 1:  14%|█▎        | 41/300 [03:06<19:39,  4.55s/it, loss=2.374, v_num=0]\n",
            "\rValidating:  10%|█         | 2/20 [00:04<00:41,  2.33s/it]\u001b[A\rEpoch 1:  14%|█▍        | 42/300 [03:08<19:18,  4.49s/it, loss=2.374, v_num=0]\n",
            "\rValidating:  15%|█▌        | 3/20 [00:06<00:36,  2.17s/it]\u001b[A\rEpoch 1:  14%|█▍        | 43/300 [03:10<18:57,  4.43s/it, loss=2.374, v_num=0]\n",
            "\rValidating:  20%|██        | 4/20 [00:08<00:34,  2.14s/it]\u001b[A\rEpoch 1:  15%|█▍        | 44/300 [03:12<18:39,  4.37s/it, loss=2.374, v_num=0]\n",
            "\rValidating:  25%|██▌       | 5/20 [00:10<00:30,  2.03s/it]\u001b[A\rEpoch 1:  15%|█▌        | 45/300 [03:14<18:20,  4.32s/it, loss=2.374, v_num=0]\n",
            "\rValidating:  30%|███       | 6/20 [00:12<00:28,  2.05s/it]\u001b[A\rEpoch 1:  15%|█▌        | 46/300 [03:16<18:04,  4.27s/it, loss=2.374, v_num=0]\n",
            "\rValidating:  35%|███▌      | 7/20 [00:13<00:25,  1.98s/it]\u001b[A\rEpoch 1:  16%|█▌        | 47/300 [03:18<17:46,  4.22s/it, loss=2.374, v_num=0]\n",
            "\rValidating:  40%|████      | 8/20 [00:15<00:22,  1.90s/it]\u001b[A\rEpoch 1:  16%|█▌        | 48/300 [03:19<17:29,  4.16s/it, loss=2.374, v_num=0]\n",
            "\rValidating:  45%|████▌     | 9/20 [00:17<00:21,  1.97s/it]\u001b[A\rEpoch 1:  16%|█▋        | 49/300 [03:21<17:14,  4.12s/it, loss=2.374, v_num=0]\n",
            "\rValidating:  50%|█████     | 10/20 [00:19<00:19,  1.98s/it]\u001b[A\rEpoch 1:  17%|█▋        | 50/300 [03:24<17:00,  4.08s/it, loss=2.374, v_num=0]\n",
            "\rValidating:  55%|█████▌    | 11/20 [00:21<00:18,  2.02s/it]\u001b[A\rEpoch 1:  17%|█▋        | 51/300 [03:26<16:46,  4.04s/it, loss=2.374, v_num=0]\n",
            "\rValidating:  60%|██████    | 12/20 [00:24<00:16,  2.06s/it]\u001b[A\rEpoch 1:  17%|█▋        | 52/300 [03:28<16:33,  4.00s/it, loss=2.374, v_num=0]\n",
            "\rValidating:  65%|██████▌   | 13/20 [00:26<00:14,  2.10s/it]\u001b[A\rEpoch 1:  18%|█▊        | 53/300 [03:30<16:20,  3.97s/it, loss=2.374, v_num=0]\n",
            "\rValidating:  70%|███████   | 14/20 [00:28<00:12,  2.10s/it]\u001b[A\rEpoch 1:  18%|█▊        | 54/300 [03:32<16:08,  3.94s/it, loss=2.374, v_num=0]\n",
            "\rValidating:  75%|███████▌  | 15/20 [00:30<00:10,  2.13s/it]\u001b[A\rEpoch 1:  18%|█▊        | 55/300 [03:34<15:56,  3.90s/it, loss=2.374, v_num=0]\n",
            "\rValidating:  80%|████████  | 16/20 [00:32<00:08,  2.08s/it]\u001b[A\rEpoch 1:  19%|█▊        | 56/300 [03:36<15:44,  3.87s/it, loss=2.374, v_num=0]\n",
            "\rValidating:  85%|████████▌ | 17/20 [00:34<00:06,  2.14s/it]\u001b[A\rEpoch 1:  19%|█▉        | 57/300 [03:38<15:33,  3.84s/it, loss=2.374, v_num=0]\n",
            "\rValidating:  90%|█████████ | 18/20 [00:36<00:04,  2.08s/it]\u001b[A\rEpoch 1:  19%|█▉        | 58/300 [03:40<15:21,  3.81s/it, loss=2.374, v_num=0]\n",
            "\rValidating:  95%|█████████▌| 19/20 [00:38<00:02,  2.03s/it]\u001b[A\rEpoch 1:  20%|█▉        | 59/300 [03:42<15:10,  3.78s/it, loss=2.374, v_num=0]\n",
            "\rValidating: 100%|██████████| 20/20 [00:40<00:00,  2.04s/it]\u001b[A\rEpoch 1:  20%|██        | 60/300 [03:44<14:59,  3.75s/it, loss=2.374, v_num=0]\rEpoch 1:  20%|██        | 60/300 [03:45<15:00,  3.75s/it, loss=2.374, v_num=0]\n",
            "\r                                                           \u001b[A\rEpoch 1:  20%|██        | 61/300 [03:45<14:43,  3.70s/it, loss=2.374, v_num=0]\rEpoch 1:  20%|██        | 61/300 [03:45<14:43,  3.70s/it, loss=2.297, v_num=0]\rEpoch 1:  21%|██        | 62/300 [03:46<14:27,  3.65s/it, loss=2.297, v_num=0]\rEpoch 1:  21%|██        | 62/300 [03:46<14:27,  3.65s/it, loss=2.343, v_num=0]\rEpoch 1:  21%|██        | 63/300 [03:46<14:11,  3.59s/it, loss=2.343, v_num=0]\rEpoch 1:  21%|██        | 63/300 [03:46<14:11,  3.59s/it, loss=2.336, v_num=0]\rEpoch 1:  21%|██▏       | 64/300 [03:46<13:56,  3.55s/it, loss=2.336, v_num=0]\rEpoch 1:  21%|██▏       | 64/300 [03:46<13:56,  3.55s/it, loss=2.407, v_num=0]\rEpoch 1:  22%|██▏       | 65/300 [03:47<13:42,  3.50s/it, loss=2.407, v_num=0]\rEpoch 1:  22%|██▏       | 65/300 [03:47<13:42,  3.50s/it, loss=2.347, v_num=0]\rEpoch 1:  22%|██▏       | 66/300 [03:48<13:28,  3.46s/it, loss=2.347, v_num=0]\rEpoch 1:  22%|██▏       | 66/300 [03:48<13:28,  3.46s/it, loss=2.316, v_num=0]\rEpoch 1:  22%|██▏       | 67/300 [03:48<13:15,  3.41s/it, loss=2.316, v_num=0]\rEpoch 1:  22%|██▏       | 67/300 [03:48<13:15,  3.41s/it, loss=2.313, v_num=0]\rEpoch 1:  23%|██▎       | 68/300 [03:49<13:02,  3.37s/it, loss=2.313, v_num=0]\rEpoch 1:  23%|██▎       | 68/300 [03:49<13:02,  3.37s/it, loss=2.281, v_num=0]\rEpoch 1:  23%|██▎       | 69/300 [03:49<12:49,  3.33s/it, loss=2.281, v_num=0]\rEpoch 1:  23%|██▎       | 69/300 [03:49<12:49,  3.33s/it, loss=2.303, v_num=0]\rEpoch 1:  23%|██▎       | 70/300 [03:50<12:36,  3.29s/it, loss=2.303, v_num=0]\rEpoch 1:  23%|██▎       | 70/300 [03:50<12:36,  3.29s/it, loss=2.309, v_num=0]\n",
            "\rValidating: 0it [00:00, ?it/s]\u001b[A\n",
            "\rValidating:   5%|▌         | 1/20 [00:02<00:41,  2.20s/it]\u001b[A\rEpoch 1:  24%|██▎       | 71/300 [03:52<12:30,  3.28s/it, loss=2.309, v_num=0]\n",
            "\rValidating:  10%|█         | 2/20 [00:04<00:39,  2.19s/it]\u001b[A\rEpoch 1:  24%|██▍       | 72/300 [03:54<12:23,  3.26s/it, loss=2.309, v_num=0]\n",
            "\rValidating:  15%|█▌        | 3/20 [00:06<00:34,  2.05s/it]\u001b[A\rEpoch 1:  24%|██▍       | 73/300 [03:56<12:15,  3.24s/it, loss=2.309, v_num=0]\n",
            "\rValidating:  20%|██        | 4/20 [00:08<00:32,  2.04s/it]\u001b[A\rEpoch 1:  25%|██▍       | 74/300 [03:58<12:08,  3.22s/it, loss=2.309, v_num=0]\n",
            "\rValidating:  25%|██▌       | 5/20 [00:09<00:28,  1.92s/it]\u001b[A\rEpoch 1:  25%|██▌       | 75/300 [04:00<12:00,  3.20s/it, loss=2.309, v_num=0]\n",
            "\rValidating:  30%|███       | 6/20 [00:11<00:27,  1.97s/it]\u001b[A\rEpoch 1:  25%|██▌       | 76/300 [04:02<11:53,  3.19s/it, loss=2.309, v_num=0]\n",
            "\rValidating:  35%|███▌      | 7/20 [00:13<00:25,  1.99s/it]\u001b[A\rEpoch 1:  26%|██▌       | 77/300 [04:04<11:47,  3.17s/it, loss=2.309, v_num=0]\n",
            "\rValidating:  40%|████      | 8/20 [00:15<00:23,  1.98s/it]\u001b[A\rEpoch 1:  26%|██▌       | 78/300 [04:06<11:40,  3.16s/it, loss=2.309, v_num=0]\n",
            "\rValidating:  45%|████▌     | 9/20 [00:18<00:24,  2.23s/it]\u001b[A\rEpoch 1:  26%|██▋       | 79/300 [04:09<11:36,  3.15s/it, loss=2.309, v_num=0]\n",
            "\rValidating:  50%|█████     | 10/20 [00:20<00:21,  2.16s/it]\u001b[A\rEpoch 1:  27%|██▋       | 80/300 [04:10<11:30,  3.14s/it, loss=2.309, v_num=0]\n",
            "\rValidating:  55%|█████▌    | 11/20 [00:22<00:19,  2.18s/it]\u001b[A\rEpoch 1:  27%|██▋       | 81/300 [04:13<11:24,  3.13s/it, loss=2.309, v_num=0]\n",
            "\rValidating:  60%|██████    | 12/20 [00:25<00:18,  2.31s/it]\u001b[A\rEpoch 1:  27%|██▋       | 82/300 [04:15<11:20,  3.12s/it, loss=2.309, v_num=0]\n",
            "\rValidating:  65%|██████▌   | 13/20 [00:27<00:16,  2.32s/it]\u001b[A\rEpoch 1:  28%|██▊       | 83/300 [04:18<11:14,  3.11s/it, loss=2.309, v_num=0]\n",
            "\rValidating:  70%|███████   | 14/20 [00:29<00:12,  2.16s/it]\u001b[A\rEpoch 1:  28%|██▊       | 84/300 [04:19<11:08,  3.09s/it, loss=2.309, v_num=0]\n",
            "\rValidating:  75%|███████▌  | 15/20 [00:31<00:10,  2.14s/it]\u001b[A\rEpoch 1:  28%|██▊       | 85/300 [04:22<11:02,  3.08s/it, loss=2.309, v_num=0]\n",
            "\rValidating:  80%|████████  | 16/20 [00:33<00:08,  2.15s/it]\u001b[A\rEpoch 1:  29%|██▊       | 86/300 [04:24<10:57,  3.07s/it, loss=2.309, v_num=0]\n",
            "\rValidating:  85%|████████▌ | 17/20 [00:35<00:06,  2.12s/it]\u001b[A\rEpoch 1:  29%|██▉       | 87/300 [04:26<10:51,  3.06s/it, loss=2.309, v_num=0]\n",
            "\rValidating:  90%|█████████ | 18/20 [00:38<00:04,  2.11s/it]\u001b[A\rEpoch 1:  29%|██▉       | 88/300 [04:28<10:46,  3.05s/it, loss=2.309, v_num=0]\n",
            "\rValidating:  95%|█████████▌| 19/20 [00:40<00:02,  2.13s/it]\u001b[A\rEpoch 1:  30%|██▉       | 89/300 [04:30<10:41,  3.04s/it, loss=2.309, v_num=0]\n",
            "\rValidating: 100%|██████████| 20/20 [00:42<00:00,  2.08s/it]\u001b[A\rEpoch 1:  30%|███       | 90/300 [04:32<10:35,  3.03s/it, loss=2.309, v_num=0]\rEpoch 1:  30%|███       | 90/300 [06:44<15:43,  4.49s/it, loss=2.309, v_num=0]\n",
            "\r                                                           \u001b[A\rEpoch 1:  30%|███       | 91/300 [06:44<15:29,  4.45s/it, loss=2.309, v_num=0]\rEpoch 1:  30%|███       | 91/300 [06:44<15:29,  4.45s/it, loss=2.254, v_num=0]\rEpoch 1:  31%|███       | 92/300 [06:45<15:15,  4.40s/it, loss=2.254, v_num=0]\rEpoch 1:  31%|███       | 92/300 [06:45<15:15,  4.40s/it, loss=2.259, v_num=0]\rEpoch 1:  31%|███       | 93/300 [06:45<15:03,  4.36s/it, loss=2.259, v_num=0]\rEpoch 1:  31%|███       | 93/300 [06:45<15:03,  4.36s/it, loss=2.271, v_num=0]\rEpoch 1:  31%|███▏      | 94/300 [06:46<14:49,  4.32s/it, loss=2.271, v_num=0]\rEpoch 1:  31%|███▏      | 94/300 [06:46<14:49,  4.32s/it, loss=2.358, v_num=0]\rEpoch 1:  32%|███▏      | 95/300 [06:46<14:37,  4.28s/it, loss=2.358, v_num=0]\rEpoch 1:  32%|███▏      | 95/300 [06:46<14:37,  4.28s/it, loss=2.421, v_num=0]\rEpoch 1:  32%|███▏      | 96/300 [06:46<14:24,  4.24s/it, loss=2.421, v_num=0]\rEpoch 1:  32%|███▏      | 96/300 [06:46<14:24,  4.24s/it, loss=2.502, v_num=0]\rEpoch 1:  32%|███▏      | 97/300 [06:47<14:12,  4.20s/it, loss=2.502, v_num=0]\rEpoch 1:  32%|███▏      | 97/300 [06:47<14:12,  4.20s/it, loss=2.536, v_num=0]\rEpoch 1:  33%|███▎      | 98/300 [06:47<14:00,  4.16s/it, loss=2.536, v_num=0]\rEpoch 1:  33%|███▎      | 98/300 [06:47<14:00,  4.16s/it, loss=2.341, v_num=0]\rEpoch 1:  33%|███▎      | 99/300 [06:47<13:48,  4.12s/it, loss=2.341, v_num=0]\rEpoch 1:  33%|███▎      | 99/300 [06:47<13:48,  4.12s/it, loss=2.360, v_num=0]\rEpoch 1:  33%|███▎      | 100/300 [06:48<13:36,  4.08s/it, loss=2.360, v_num=0]\rEpoch 1:  33%|███▎      | 100/300 [06:48<13:36,  4.08s/it, loss=2.340, v_num=0]\n",
            "\rValidating: 0it [00:00, ?it/s]\u001b[A\n",
            "\rValidating:   5%|▌         | 1/20 [00:02<00:50,  2.64s/it]\u001b[A\rEpoch 1:  34%|███▎      | 101/300 [06:51<13:29,  4.07s/it, loss=2.340, v_num=0]\n",
            "\rValidating:  10%|█         | 2/20 [00:04<00:45,  2.53s/it]\u001b[A\rEpoch 1:  34%|███▍      | 102/300 [06:53<13:22,  4.05s/it, loss=2.340, v_num=0]\n",
            "\rValidating:  15%|█▌        | 3/20 [00:06<00:39,  2.33s/it]\u001b[A\rEpoch 1:  34%|███▍      | 103/300 [06:55<13:14,  4.03s/it, loss=2.340, v_num=0]\n",
            "\rValidating:  20%|██        | 4/20 [00:09<00:38,  2.38s/it]\u001b[A\rEpoch 1:  35%|███▍      | 104/300 [06:57<13:07,  4.02s/it, loss=2.340, v_num=0]\n",
            "\rValidating:  25%|██▌       | 5/20 [00:11<00:34,  2.27s/it]\u001b[A\rEpoch 1:  35%|███▌      | 105/300 [06:59<12:59,  4.00s/it, loss=2.340, v_num=0]\n",
            "\rValidating:  30%|███       | 6/20 [00:13<00:30,  2.21s/it]\u001b[A\rEpoch 1:  35%|███▌      | 106/300 [07:01<12:52,  3.98s/it, loss=2.340, v_num=0]\n",
            "\rValidating:  35%|███▌      | 7/20 [00:15<00:29,  2.24s/it]\u001b[A\rEpoch 1:  36%|███▌      | 107/300 [07:04<12:44,  3.96s/it, loss=2.340, v_num=0]\n",
            "\rValidating:  40%|████      | 8/20 [00:17<00:24,  2.08s/it]\u001b[A\rEpoch 1:  36%|███▌      | 108/300 [07:05<12:37,  3.94s/it, loss=2.340, v_num=0]\n",
            "\rValidating:  45%|████▌     | 9/20 [00:19<00:24,  2.18s/it]\u001b[A\rEpoch 1:  36%|███▋      | 109/300 [07:08<12:30,  3.93s/it, loss=2.340, v_num=0]\n",
            "\rValidating:  50%|█████     | 10/20 [00:22<00:22,  2.20s/it]\u001b[A\rEpoch 1:  37%|███▋      | 110/300 [07:10<12:23,  3.91s/it, loss=2.340, v_num=0]\n",
            "\rValidating:  55%|█████▌    | 11/20 [00:24<00:19,  2.20s/it]\u001b[A\rEpoch 1:  37%|███▋      | 111/300 [07:12<12:16,  3.90s/it, loss=2.340, v_num=0]\n",
            "\rValidating:  60%|██████    | 12/20 [00:27<00:19,  2.39s/it]\u001b[A\rEpoch 1:  37%|███▋      | 112/300 [07:15<12:11,  3.89s/it, loss=2.340, v_num=0]\n",
            "\rValidating:  65%|██████▌   | 13/20 [00:29<00:16,  2.37s/it]\u001b[A\rEpoch 1:  38%|███▊      | 113/300 [07:17<12:04,  3.87s/it, loss=2.340, v_num=0]\n",
            "\rValidating:  70%|███████   | 14/20 [00:31<00:13,  2.30s/it]\u001b[A\rEpoch 1:  38%|███▊      | 114/300 [07:19<11:57,  3.86s/it, loss=2.340, v_num=0]\n",
            "\rValidating:  75%|███████▌  | 15/20 [00:34<00:11,  2.37s/it]\u001b[A\rEpoch 1:  38%|███▊      | 115/300 [07:22<11:51,  3.85s/it, loss=2.340, v_num=0]\n",
            "\rValidating:  80%|████████  | 16/20 [00:36<00:09,  2.32s/it]\u001b[A\rEpoch 1:  39%|███▊      | 116/300 [07:24<11:45,  3.83s/it, loss=2.340, v_num=0]\n",
            "\rValidating:  85%|████████▌ | 17/20 [00:38<00:06,  2.21s/it]\u001b[A\rEpoch 1:  39%|███▉      | 117/300 [07:26<11:38,  3.82s/it, loss=2.340, v_num=0]\n",
            "\rValidating:  90%|█████████ | 18/20 [00:40<00:04,  2.15s/it]\u001b[A\rEpoch 1:  39%|███▉      | 118/300 [07:28<11:32,  3.80s/it, loss=2.340, v_num=0]\n",
            "\rValidating:  95%|█████████▌| 19/20 [00:41<00:02,  2.04s/it]\u001b[A\rEpoch 1:  40%|███▉      | 119/300 [07:30<11:25,  3.79s/it, loss=2.340, v_num=0]\n",
            "\rValidating: 100%|██████████| 20/20 [00:44<00:00,  2.07s/it]\u001b[A\rEpoch 1:  40%|████      | 120/300 [07:32<11:18,  3.77s/it, loss=2.340, v_num=0]\rEpoch 1:  40%|████      | 120/300 [07:32<11:19,  3.77s/it, loss=2.340, v_num=0]\n",
            "\r                                                           \u001b[A\rEpoch 1:  40%|████      | 121/300 [07:33<11:10,  3.74s/it, loss=2.340, v_num=0]\rEpoch 1:  40%|████      | 121/300 [07:33<11:10,  3.74s/it, loss=2.351, v_num=0]\rEpoch 1:  41%|████      | 122/300 [07:33<11:01,  3.72s/it, loss=2.351, v_num=0]\rEpoch 1:  41%|████      | 122/300 [07:33<11:01,  3.72s/it, loss=2.351, v_num=0]\rEpoch 1:  41%|████      | 123/300 [07:34<10:53,  3.69s/it, loss=2.351, v_num=0]\rEpoch 1:  41%|████      | 123/300 [07:34<10:53,  3.69s/it, loss=2.411, v_num=0]\rEpoch 1:  41%|████▏     | 124/300 [07:34<10:45,  3.67s/it, loss=2.411, v_num=0]\rEpoch 1:  41%|████▏     | 124/300 [07:34<10:45,  3.67s/it, loss=2.315, v_num=0]\rEpoch 1:  42%|████▏     | 125/300 [07:35<10:37,  3.64s/it, loss=2.315, v_num=0]\rEpoch 1:  42%|████▏     | 125/300 [07:35<10:37,  3.64s/it, loss=2.238, v_num=0]\rEpoch 1:  42%|████▏     | 126/300 [07:35<10:28,  3.61s/it, loss=2.238, v_num=0]\rEpoch 1:  42%|████▏     | 126/300 [07:35<10:28,  3.61s/it, loss=2.220, v_num=0]\rEpoch 1:  42%|████▏     | 127/300 [07:36<10:21,  3.59s/it, loss=2.220, v_num=0]\rEpoch 1:  42%|████▏     | 127/300 [07:36<10:21,  3.59s/it, loss=2.215, v_num=0]\rEpoch 1:  43%|████▎     | 128/300 [07:36<10:13,  3.56s/it, loss=2.215, v_num=0]\rEpoch 1:  43%|████▎     | 128/300 [07:36<10:13,  3.56s/it, loss=2.231, v_num=0]\rEpoch 1:  43%|████▎     | 129/300 [07:36<10:05,  3.54s/it, loss=2.231, v_num=0]\rEpoch 1:  43%|████▎     | 129/300 [07:36<10:05,  3.54s/it, loss=2.268, v_num=0]\rEpoch 1:  43%|████▎     | 130/300 [07:37<09:58,  3.52s/it, loss=2.268, v_num=0]\rEpoch 1:  43%|████▎     | 130/300 [07:37<09:58,  3.52s/it, loss=2.250, v_num=0]\n",
            "\rValidating: 0it [00:00, ?it/s]\u001b[A\n",
            "\rValidating:   5%|▌         | 1/20 [00:02<00:52,  2.77s/it]\u001b[A\rEpoch 1:  44%|████▎     | 131/300 [07:40<09:53,  3.51s/it, loss=2.250, v_num=0]\n",
            "\rValidating:  10%|█         | 2/20 [00:04<00:46,  2.58s/it]\u001b[A\rEpoch 1:  44%|████▍     | 132/300 [07:42<09:48,  3.50s/it, loss=2.250, v_num=0]\n",
            "\rValidating:  15%|█▌        | 3/20 [00:06<00:40,  2.36s/it]\u001b[A\rEpoch 1:  44%|████▍     | 133/300 [07:44<09:42,  3.49s/it, loss=2.250, v_num=0]\n",
            "\rValidating:  20%|██        | 4/20 [00:09<00:38,  2.42s/it]\u001b[A\rEpoch 1:  45%|████▍     | 134/300 [07:46<09:38,  3.48s/it, loss=2.250, v_num=0]\n",
            "\rValidating:  25%|██▌       | 5/20 [00:10<00:32,  2.18s/it]\u001b[A\rEpoch 1:  45%|████▌     | 135/300 [07:48<09:32,  3.47s/it, loss=2.250, v_num=0]\n",
            "\rValidating:  30%|███       | 6/20 [00:12<00:29,  2.12s/it]\u001b[A\rEpoch 1:  45%|████▌     | 136/300 [07:50<09:27,  3.46s/it, loss=2.250, v_num=0]\n",
            "\rValidating:  35%|███▌      | 7/20 [00:14<00:26,  2.05s/it]\u001b[A\rEpoch 1:  46%|████▌     | 137/300 [07:52<09:21,  3.45s/it, loss=2.250, v_num=0]\n",
            "\rValidating:  40%|████      | 8/20 [00:16<00:23,  1.96s/it]\u001b[A\rEpoch 1:  46%|████▌     | 138/300 [07:54<09:16,  3.43s/it, loss=2.250, v_num=0]\n",
            "\rValidating:  45%|████▌     | 9/20 [00:18<00:23,  2.09s/it]\u001b[A\rEpoch 1:  46%|████▋     | 139/300 [07:56<09:11,  3.43s/it, loss=2.250, v_num=0]\n",
            "\rValidating:  50%|█████     | 10/20 [00:21<00:22,  2.29s/it]\u001b[A\rEpoch 1:  47%|████▋     | 140/300 [07:59<09:07,  3.42s/it, loss=2.250, v_num=0]\n",
            "\rValidating:  55%|█████▌    | 11/20 [00:23<00:20,  2.29s/it]\u001b[A\rEpoch 1:  47%|████▋     | 141/300 [08:01<09:02,  3.41s/it, loss=2.250, v_num=0]\n",
            "\rValidating:  60%|██████    | 12/20 [00:26<00:19,  2.42s/it]\u001b[A\rEpoch 1:  47%|████▋     | 142/300 [08:04<08:58,  3.41s/it, loss=2.250, v_num=0]\n",
            "\rValidating:  65%|██████▌   | 13/20 [00:28<00:16,  2.37s/it]\u001b[A\rEpoch 1:  48%|████▊     | 143/300 [08:06<08:54,  3.40s/it, loss=2.250, v_num=0]\n",
            "\rValidating:  70%|███████   | 14/20 [00:31<00:14,  2.36s/it]\u001b[A\rEpoch 1:  48%|████▊     | 144/300 [08:08<08:49,  3.39s/it, loss=2.250, v_num=0]\n",
            "\rValidating:  75%|███████▌  | 15/20 [00:33<00:12,  2.44s/it]\u001b[A\rEpoch 1:  48%|████▊     | 145/300 [08:11<08:45,  3.39s/it, loss=2.250, v_num=0]\n",
            "\rValidating:  80%|████████  | 16/20 [00:36<00:09,  2.44s/it]\u001b[A\rEpoch 1:  49%|████▊     | 146/300 [08:13<08:40,  3.38s/it, loss=2.250, v_num=0]\n",
            "\rValidating:  85%|████████▌ | 17/20 [00:38<00:07,  2.36s/it]\u001b[A\rEpoch 1:  49%|████▉     | 147/300 [08:16<08:36,  3.37s/it, loss=2.250, v_num=0]\n",
            "\rValidating:  90%|█████████ | 18/20 [00:40<00:04,  2.31s/it]\u001b[A\rEpoch 1:  49%|████▉     | 148/300 [08:18<08:31,  3.37s/it, loss=2.250, v_num=0]\n",
            "\rValidating:  95%|█████████▌| 19/20 [00:43<00:02,  2.44s/it]\u001b[A\rEpoch 1:  50%|████▉     | 149/300 [08:20<08:27,  3.36s/it, loss=2.250, v_num=0]\n",
            "\rValidating: 100%|██████████| 20/20 [00:45<00:00,  2.34s/it]\u001b[A\rEpoch 1:  50%|█████     | 150/300 [08:23<08:23,  3.35s/it, loss=2.250, v_num=0]\rEpoch 1:  50%|█████     | 150/300 [08:23<08:23,  3.35s/it, loss=2.250, v_num=0]\n",
            "\r                                                           \u001b[A\rEpoch 1:  50%|█████     | 151/300 [08:23<08:17,  3.34s/it, loss=2.250, v_num=0]\rEpoch 1:  50%|█████     | 151/300 [08:23<08:17,  3.34s/it, loss=2.269, v_num=0]\rEpoch 1:  51%|█████     | 152/300 [08:24<08:10,  3.32s/it, loss=2.269, v_num=0]\rEpoch 1:  51%|█████     | 152/300 [08:24<08:10,  3.32s/it, loss=2.273, v_num=0]\rEpoch 1:  51%|█████     | 153/300 [08:24<08:04,  3.30s/it, loss=2.273, v_num=0]\rEpoch 1:  51%|█████     | 153/300 [08:24<08:04,  3.30s/it, loss=2.254, v_num=0]\rEpoch 1:  51%|█████▏    | 154/300 [08:25<07:58,  3.28s/it, loss=2.254, v_num=0]\rEpoch 1:  51%|█████▏    | 154/300 [08:25<07:58,  3.28s/it, loss=2.249, v_num=0]\rEpoch 1:  52%|█████▏    | 155/300 [08:25<07:52,  3.26s/it, loss=2.249, v_num=0]\rEpoch 1:  52%|█████▏    | 155/300 [08:25<07:52,  3.26s/it, loss=2.189, v_num=0]\rEpoch 1:  52%|█████▏    | 156/300 [08:25<07:46,  3.24s/it, loss=2.189, v_num=0]\rEpoch 1:  52%|█████▏    | 156/300 [08:25<07:46,  3.24s/it, loss=2.157, v_num=0]\rEpoch 1:  52%|█████▏    | 157/300 [08:26<07:41,  3.22s/it, loss=2.157, v_num=0]\rEpoch 1:  52%|█████▏    | 157/300 [08:26<07:41,  3.22s/it, loss=2.132, v_num=0]\rEpoch 1:  53%|█████▎    | 158/300 [08:26<07:35,  3.21s/it, loss=2.132, v_num=0]\rEpoch 1:  53%|█████▎    | 158/300 [08:26<07:35,  3.21s/it, loss=2.262, v_num=0]\rEpoch 1:  53%|█████▎    | 159/300 [08:27<07:30,  3.19s/it, loss=2.262, v_num=0]\rEpoch 1:  53%|█████▎    | 159/300 [08:27<07:30,  3.19s/it, loss=2.207, v_num=0]\rEpoch 1:  53%|█████▎    | 160/300 [08:27<07:24,  3.17s/it, loss=2.207, v_num=0]\rEpoch 1:  53%|█████▎    | 160/300 [08:27<07:24,  3.17s/it, loss=2.205, v_num=0]\n",
            "\rValidating: 0it [00:00, ?it/s]\u001b[A\n",
            "\rValidating:   5%|▌         | 1/20 [00:02<00:53,  2.79s/it]\u001b[A\rEpoch 1:  54%|█████▎    | 161/300 [08:30<07:20,  3.17s/it, loss=2.205, v_num=0]\n",
            "\rValidating:  10%|█         | 2/20 [00:04<00:46,  2.59s/it]\u001b[A\rEpoch 1:  54%|█████▍    | 162/300 [08:32<07:16,  3.17s/it, loss=2.205, v_num=0]\n",
            "\rValidating:  15%|█▌        | 3/20 [00:06<00:40,  2.39s/it]\u001b[A\rEpoch 1:  54%|█████▍    | 163/300 [08:34<07:12,  3.16s/it, loss=2.205, v_num=0]\n",
            "\rValidating:  20%|██        | 4/20 [00:09<00:39,  2.46s/it]\u001b[A\rEpoch 1:  55%|█████▍    | 164/300 [08:37<07:09,  3.16s/it, loss=2.205, v_num=0]\n",
            "\rValidating:  25%|██▌       | 5/20 [00:11<00:33,  2.23s/it]\u001b[A\rEpoch 1:  55%|█████▌    | 165/300 [08:39<07:04,  3.15s/it, loss=2.205, v_num=0]\n",
            "\rValidating:  30%|███       | 6/20 [00:13<00:31,  2.26s/it]\u001b[A\rEpoch 1:  55%|█████▌    | 166/300 [08:41<07:00,  3.14s/it, loss=2.205, v_num=0]\n",
            "\rValidating:  35%|███▌      | 7/20 [00:15<00:28,  2.20s/it]\u001b[A\rEpoch 1:  56%|█████▌    | 167/300 [08:43<06:56,  3.13s/it, loss=2.205, v_num=0]\n",
            "\rValidating:  40%|████      | 8/20 [00:17<00:25,  2.09s/it]\u001b[A\rEpoch 1:  56%|█████▌    | 168/300 [08:45<06:52,  3.13s/it, loss=2.205, v_num=0]\n",
            "\rValidating:  45%|████▌     | 9/20 [00:20<00:26,  2.39s/it]\u001b[A\rEpoch 1:  56%|█████▋    | 169/300 [08:48<06:49,  3.13s/it, loss=2.205, v_num=0]\n",
            "\rValidating:  50%|█████     | 10/20 [00:23<00:25,  2.52s/it]\u001b[A\rEpoch 1:  57%|█████▋    | 170/300 [08:51<06:46,  3.12s/it, loss=2.205, v_num=0]\n",
            "\rValidating:  55%|█████▌    | 11/20 [00:25<00:22,  2.48s/it]\u001b[A\rEpoch 1:  57%|█████▋    | 171/300 [08:53<06:42,  3.12s/it, loss=2.205, v_num=0]\n",
            "\rValidating:  60%|██████    | 12/20 [00:28<00:21,  2.67s/it]\u001b[A\rEpoch 1:  57%|█████▋    | 172/300 [08:56<06:39,  3.12s/it, loss=2.205, v_num=0]\n",
            "\rValidating:  65%|██████▌   | 13/20 [00:31<00:18,  2.63s/it]\u001b[A\rEpoch 1:  58%|█████▊    | 173/300 [08:59<06:35,  3.12s/it, loss=2.205, v_num=0]\n",
            "\rValidating:  70%|███████   | 14/20 [00:33<00:15,  2.59s/it]\u001b[A\rEpoch 1:  58%|█████▊    | 174/300 [09:01<06:32,  3.11s/it, loss=2.205, v_num=0]\n",
            "\rValidating:  75%|███████▌  | 15/20 [00:36<00:12,  2.51s/it]\u001b[A\rEpoch 1:  58%|█████▊    | 175/300 [09:04<06:28,  3.11s/it, loss=2.205, v_num=0]\n",
            "\rValidating:  80%|████████  | 16/20 [00:38<00:09,  2.38s/it]\u001b[A\rEpoch 1:  59%|█████▊    | 176/300 [09:06<06:24,  3.10s/it, loss=2.205, v_num=0]\n",
            "\rValidating:  85%|████████▌ | 17/20 [00:40<00:06,  2.24s/it]\u001b[A\rEpoch 1:  59%|█████▉    | 177/300 [09:08<06:20,  3.10s/it, loss=2.205, v_num=0]\n",
            "\rValidating:  90%|█████████ | 18/20 [00:42<00:04,  2.22s/it]\u001b[A\rEpoch 1:  59%|█████▉    | 178/300 [09:10<06:17,  3.09s/it, loss=2.205, v_num=0]\n",
            "\rValidating:  95%|█████████▌| 19/20 [00:44<00:02,  2.34s/it]\u001b[A\rEpoch 1:  60%|█████▉    | 179/300 [09:12<06:13,  3.09s/it, loss=2.205, v_num=0]\n",
            "\rValidating: 100%|██████████| 20/20 [00:46<00:00,  2.26s/it]\u001b[A\rEpoch 1:  60%|██████    | 180/300 [09:14<06:09,  3.08s/it, loss=2.205, v_num=0]\rEpoch 1:  60%|██████    | 180/300 [09:15<06:10,  3.08s/it, loss=2.205, v_num=0]\n",
            "\r                                                           \u001b[A\rEpoch 1:  60%|██████    | 181/300 [09:15<06:05,  3.07s/it, loss=2.205, v_num=0]\rEpoch 1:  60%|██████    | 181/300 [09:15<06:05,  3.07s/it, loss=2.145, v_num=0]\rEpoch 1:  61%|██████    | 182/300 [09:15<06:00,  3.05s/it, loss=2.145, v_num=0]\rEpoch 1:  61%|██████    | 182/300 [09:15<06:00,  3.05s/it, loss=2.119, v_num=0]\rEpoch 1:  61%|██████    | 183/300 [09:16<05:55,  3.04s/it, loss=2.119, v_num=0]\rEpoch 1:  61%|██████    | 183/300 [09:16<05:55,  3.04s/it, loss=2.077, v_num=0]\rEpoch 1:  61%|██████▏   | 184/300 [09:16<05:51,  3.03s/it, loss=2.077, v_num=0]\rEpoch 1:  61%|██████▏   | 184/300 [09:16<05:51,  3.03s/it, loss=2.075, v_num=0]\rEpoch 1:  62%|██████▏   | 185/300 [09:17<05:46,  3.01s/it, loss=2.075, v_num=0]\rEpoch 1:  62%|██████▏   | 185/300 [09:17<05:46,  3.01s/it, loss=2.133, v_num=0]\rEpoch 1:  62%|██████▏   | 186/300 [09:17<05:41,  3.00s/it, loss=2.133, v_num=0]\rEpoch 1:  62%|██████▏   | 186/300 [09:17<05:41,  3.00s/it, loss=2.165, v_num=0]\rEpoch 1:  62%|██████▏   | 187/300 [09:17<05:37,  2.98s/it, loss=2.165, v_num=0]\rEpoch 1:  62%|██████▏   | 187/300 [09:17<05:37,  2.98s/it, loss=2.150, v_num=0]\rEpoch 1:  63%|██████▎   | 188/300 [09:18<05:32,  2.97s/it, loss=2.150, v_num=0]\rEpoch 1:  63%|██████▎   | 188/300 [09:18<05:32,  2.97s/it, loss=2.147, v_num=0]\rEpoch 1:  63%|██████▎   | 189/300 [09:18<05:28,  2.95s/it, loss=2.147, v_num=0]\rEpoch 1:  63%|██████▎   | 189/300 [09:18<05:28,  2.95s/it, loss=2.054, v_num=0]\rEpoch 1:  63%|██████▎   | 190/300 [09:18<05:23,  2.94s/it, loss=2.054, v_num=0]\rEpoch 1:  63%|██████▎   | 190/300 [09:18<05:23,  2.94s/it, loss=2.121, v_num=0]\n",
            "\rValidating: 0it [00:00, ?it/s]\u001b[A\n",
            "\rValidating:   5%|▌         | 1/20 [00:02<00:44,  2.36s/it]\u001b[A\rEpoch 1:  64%|██████▎   | 191/300 [09:21<05:20,  2.94s/it, loss=2.121, v_num=0]\n",
            "\rValidating:  10%|█         | 2/20 [00:04<00:39,  2.21s/it]\u001b[A\rEpoch 1:  64%|██████▍   | 192/300 [09:22<05:16,  2.93s/it, loss=2.121, v_num=0]\n",
            "\rValidating:  15%|█▌        | 3/20 [00:06<00:36,  2.17s/it]\u001b[A\rEpoch 1:  64%|██████▍   | 193/300 [09:25<05:13,  2.93s/it, loss=2.121, v_num=0]\n",
            "\rValidating:  20%|██        | 4/20 [00:08<00:36,  2.29s/it]\u001b[A\rEpoch 1:  65%|██████▍   | 194/300 [09:27<05:10,  2.93s/it, loss=2.121, v_num=0]\n",
            "\rValidating:  25%|██▌       | 5/20 [00:10<00:32,  2.15s/it]\u001b[A\rEpoch 1:  65%|██████▌   | 195/300 [09:29<05:06,  2.92s/it, loss=2.121, v_num=0]\n",
            "\rValidating:  30%|███       | 6/20 [00:12<00:29,  2.14s/it]\u001b[A\rEpoch 1:  65%|██████▌   | 196/300 [09:31<05:03,  2.92s/it, loss=2.121, v_num=0]\n",
            "\rValidating:  35%|███▌      | 7/20 [00:14<00:27,  2.12s/it]\u001b[A\rEpoch 1:  66%|██████▌   | 197/300 [09:33<04:59,  2.91s/it, loss=2.121, v_num=0]\n",
            "\rValidating:  40%|████      | 8/20 [00:16<00:24,  2.00s/it]\u001b[A\rEpoch 1:  66%|██████▌   | 198/300 [09:35<04:56,  2.91s/it, loss=2.121, v_num=0]\n",
            "\rValidating:  45%|████▌     | 9/20 [00:19<00:24,  2.26s/it]\u001b[A\rEpoch 1:  66%|██████▋   | 199/300 [09:38<04:53,  2.91s/it, loss=2.121, v_num=0]\n",
            "\rValidating:  50%|█████     | 10/20 [00:21<00:22,  2.24s/it]\u001b[A\rEpoch 1:  67%|██████▋   | 200/300 [09:40<04:50,  2.90s/it, loss=2.121, v_num=0]\n",
            "\rValidating:  55%|█████▌    | 11/20 [00:24<00:20,  2.27s/it]\u001b[A\rEpoch 1:  67%|██████▋   | 201/300 [09:42<04:47,  2.90s/it, loss=2.121, v_num=0]\n",
            "\rValidating:  60%|██████    | 12/20 [00:26<00:19,  2.49s/it]\u001b[A\rEpoch 1:  67%|██████▋   | 202/300 [09:45<04:44,  2.90s/it, loss=2.121, v_num=0]\n",
            "\rValidating:  65%|██████▌   | 13/20 [00:29<00:18,  2.63s/it]\u001b[A\rEpoch 1:  68%|██████▊   | 203/300 [09:48<04:41,  2.90s/it, loss=2.121, v_num=0]\n",
            "\rValidating:  70%|███████   | 14/20 [00:32<00:15,  2.50s/it]\u001b[A\rEpoch 1:  68%|██████▊   | 204/300 [09:50<04:38,  2.90s/it, loss=2.121, v_num=0]\n",
            "\rValidating:  75%|███████▌  | 15/20 [00:34<00:12,  2.50s/it]\u001b[A\rEpoch 1:  68%|██████▊   | 205/300 [09:53<04:34,  2.89s/it, loss=2.121, v_num=0]\n",
            "\rValidating:  80%|████████  | 16/20 [00:37<00:10,  2.53s/it]\u001b[A\rEpoch 1:  69%|██████▊   | 206/300 [09:56<04:31,  2.89s/it, loss=2.121, v_num=0]\n",
            "\rValidating:  85%|████████▌ | 17/20 [00:39<00:07,  2.41s/it]\u001b[A\rEpoch 1:  69%|██████▉   | 207/300 [09:58<04:28,  2.89s/it, loss=2.121, v_num=0]\n",
            "\rValidating:  90%|█████████ | 18/20 [00:41<00:04,  2.44s/it]\u001b[A\rEpoch 1:  69%|██████▉   | 208/300 [10:00<04:25,  2.89s/it, loss=2.121, v_num=0]\n",
            "\rValidating:  95%|█████████▌| 19/20 [00:44<00:02,  2.40s/it]\u001b[A\rEpoch 1:  70%|██████▉   | 209/300 [10:02<04:22,  2.88s/it, loss=2.121, v_num=0]\n",
            "\rValidating: 100%|██████████| 20/20 [00:46<00:00,  2.32s/it]\u001b[A\rEpoch 1:  70%|███████   | 210/300 [10:05<04:19,  2.88s/it, loss=2.121, v_num=0]\rEpoch 1:  70%|███████   | 210/300 [10:05<04:19,  2.88s/it, loss=2.121, v_num=0]\n",
            "\r                                                           \u001b[A\rEpoch 1:  70%|███████   | 211/300 [10:05<04:15,  2.87s/it, loss=2.121, v_num=0]\rEpoch 1:  70%|███████   | 211/300 [10:05<04:15,  2.87s/it, loss=2.122, v_num=0]\rEpoch 1:  71%|███████   | 212/300 [10:05<04:11,  2.86s/it, loss=2.122, v_num=0]\rEpoch 1:  71%|███████   | 212/300 [10:05<04:11,  2.86s/it, loss=2.065, v_num=0]\rEpoch 1:  71%|███████   | 213/300 [10:06<04:07,  2.85s/it, loss=2.065, v_num=0]\rEpoch 1:  71%|███████   | 213/300 [10:06<04:07,  2.85s/it, loss=2.071, v_num=0]\rEpoch 1:  71%|███████▏  | 214/300 [10:06<04:03,  2.83s/it, loss=2.071, v_num=0]\rEpoch 1:  71%|███████▏  | 214/300 [10:06<04:03,  2.83s/it, loss=2.041, v_num=0]\rEpoch 1:  72%|███████▏  | 215/300 [10:06<03:59,  2.82s/it, loss=2.041, v_num=0]\rEpoch 1:  72%|███████▏  | 215/300 [10:06<03:59,  2.82s/it, loss=2.048, v_num=0]\rEpoch 1:  72%|███████▏  | 216/300 [10:07<03:56,  2.81s/it, loss=2.048, v_num=0]\rEpoch 1:  72%|███████▏  | 216/300 [10:07<03:56,  2.81s/it, loss=2.060, v_num=0]\rEpoch 1:  72%|███████▏  | 217/300 [10:07<03:52,  2.80s/it, loss=2.060, v_num=0]\rEpoch 1:  72%|███████▏  | 217/300 [10:07<03:52,  2.80s/it, loss=2.135, v_num=0]\rEpoch 1:  73%|███████▎  | 218/300 [10:07<03:48,  2.79s/it, loss=2.135, v_num=0]\rEpoch 1:  73%|███████▎  | 218/300 [10:07<03:48,  2.79s/it, loss=2.089, v_num=0]\rEpoch 1:  73%|███████▎  | 219/300 [10:08<03:44,  2.78s/it, loss=2.089, v_num=0]\rEpoch 1:  73%|███████▎  | 219/300 [10:08<03:44,  2.78s/it, loss=2.145, v_num=0]\rEpoch 1:  73%|███████▎  | 220/300 [10:08<03:41,  2.77s/it, loss=2.145, v_num=0]\rEpoch 1:  73%|███████▎  | 220/300 [10:08<03:41,  2.77s/it, loss=2.171, v_num=0]\n",
            "\rValidating: 0it [00:00, ?it/s]\u001b[A\n",
            "\rValidating:   5%|▌         | 1/20 [00:02<00:44,  2.33s/it]\u001b[A\rEpoch 1:  74%|███████▎  | 221/300 [10:10<03:38,  2.76s/it, loss=2.171, v_num=0]\n",
            "\rValidating:  10%|█         | 2/20 [00:04<00:43,  2.40s/it]\u001b[A\rEpoch 1:  74%|███████▍  | 222/300 [10:13<03:35,  2.76s/it, loss=2.171, v_num=0]\n",
            "\rValidating:  15%|█▌        | 3/20 [00:07<00:39,  2.33s/it]\u001b[A\rEpoch 1:  74%|███████▍  | 223/300 [10:15<03:32,  2.76s/it, loss=2.171, v_num=0]\n",
            "\rValidating:  20%|██        | 4/20 [00:09<00:38,  2.43s/it]\u001b[A\rEpoch 1:  75%|███████▍  | 224/300 [10:18<03:29,  2.76s/it, loss=2.171, v_num=0]\n",
            "\rValidating:  25%|██▌       | 5/20 [00:11<00:33,  2.20s/it]\u001b[A\rEpoch 1:  75%|███████▌  | 225/300 [10:19<03:26,  2.76s/it, loss=2.171, v_num=0]\n",
            "\rValidating:  30%|███       | 6/20 [00:13<00:31,  2.27s/it]\u001b[A\rEpoch 1:  75%|███████▌  | 226/300 [10:22<03:23,  2.75s/it, loss=2.171, v_num=0]\n",
            "\rValidating:  35%|███▌      | 7/20 [00:15<00:28,  2.23s/it]\u001b[A\rEpoch 1:  76%|███████▌  | 227/300 [10:24<03:20,  2.75s/it, loss=2.171, v_num=0]\n",
            "\rValidating:  40%|████      | 8/20 [00:17<00:25,  2.13s/it]\u001b[A\rEpoch 1:  76%|███████▌  | 228/300 [10:26<03:17,  2.75s/it, loss=2.171, v_num=0]\n",
            "\rValidating:  45%|████▌     | 9/20 [00:20<00:25,  2.32s/it]\u001b[A\rEpoch 1:  76%|███████▋  | 229/300 [10:29<03:15,  2.75s/it, loss=2.171, v_num=0]\n",
            "\rValidating:  50%|█████     | 10/20 [00:22<00:23,  2.34s/it]\u001b[A\rEpoch 1:  77%|███████▋  | 230/300 [10:31<03:12,  2.75s/it, loss=2.171, v_num=0]\n",
            "\rValidating:  55%|█████▌    | 11/20 [00:25<00:21,  2.39s/it]\u001b[A\rEpoch 1:  77%|███████▋  | 231/300 [10:34<03:09,  2.74s/it, loss=2.171, v_num=0]\n",
            "\rValidating:  60%|██████    | 12/20 [00:28<00:20,  2.56s/it]\u001b[A\rEpoch 1:  77%|███████▋  | 232/300 [10:36<03:06,  2.75s/it, loss=2.171, v_num=0]\n",
            "\rValidating:  65%|██████▌   | 13/20 [00:31<00:18,  2.59s/it]\u001b[A\rEpoch 1:  78%|███████▊  | 233/300 [10:39<03:03,  2.75s/it, loss=2.171, v_num=0]\n",
            "\rValidating:  70%|███████   | 14/20 [00:33<00:14,  2.40s/it]\u001b[A\rEpoch 1:  78%|███████▊  | 234/300 [10:41<03:00,  2.74s/it, loss=2.171, v_num=0]\n",
            "\rValidating:  75%|███████▌  | 15/20 [00:35<00:11,  2.34s/it]\u001b[A\rEpoch 1:  78%|███████▊  | 235/300 [10:43<02:58,  2.74s/it, loss=2.171, v_num=0]\n",
            "\rValidating:  80%|████████  | 16/20 [00:37<00:09,  2.32s/it]\u001b[A\rEpoch 1:  79%|███████▊  | 236/300 [10:46<02:55,  2.74s/it, loss=2.171, v_num=0]\n",
            "\rValidating:  85%|████████▌ | 17/20 [00:39<00:06,  2.28s/it]\u001b[A\rEpoch 1:  79%|███████▉  | 237/300 [10:48<02:52,  2.74s/it, loss=2.171, v_num=0]\n",
            "\rValidating:  90%|█████████ | 18/20 [00:42<00:04,  2.36s/it]\u001b[A\rEpoch 1:  79%|███████▉  | 238/300 [10:50<02:49,  2.73s/it, loss=2.171, v_num=0]\n",
            "\rValidating:  95%|█████████▌| 19/20 [00:44<00:02,  2.47s/it]\u001b[A\rEpoch 1:  80%|███████▉  | 239/300 [10:53<02:46,  2.73s/it, loss=2.171, v_num=0]\n",
            "\rValidating: 100%|██████████| 20/20 [00:47<00:00,  2.40s/it]\u001b[A\rEpoch 1:  80%|████████  | 240/300 [10:55<02:43,  2.73s/it, loss=2.171, v_num=0]\rEpoch 1:  80%|████████  | 240/300 [10:55<02:43,  2.73s/it, loss=2.171, v_num=0]\n",
            "\r                                                           \u001b[A\rEpoch 1:  80%|████████  | 241/300 [10:56<02:40,  2.72s/it, loss=2.171, v_num=0]\rEpoch 1:  80%|████████  | 241/300 [10:56<02:40,  2.72s/it, loss=2.191, v_num=0]\rEpoch 1:  81%|████████  | 242/300 [10:56<02:37,  2.71s/it, loss=2.191, v_num=0]\rEpoch 1:  81%|████████  | 242/300 [10:56<02:37,  2.71s/it, loss=2.160, v_num=0]\rEpoch 1:  81%|████████  | 243/300 [10:57<02:34,  2.71s/it, loss=2.160, v_num=0]\rEpoch 1:  81%|████████  | 243/300 [10:57<02:34,  2.71s/it, loss=2.195, v_num=0]\rEpoch 1:  81%|████████▏ | 244/300 [10:57<02:30,  2.70s/it, loss=2.195, v_num=0]\rEpoch 1:  81%|████████▏ | 244/300 [10:57<02:30,  2.70s/it, loss=2.261, v_num=0]\rEpoch 1:  82%|████████▏ | 245/300 [10:58<02:27,  2.69s/it, loss=2.261, v_num=0]\rEpoch 1:  82%|████████▏ | 245/300 [10:58<02:27,  2.69s/it, loss=2.275, v_num=0]\rEpoch 1:  82%|████████▏ | 246/300 [10:58<02:24,  2.68s/it, loss=2.275, v_num=0]\rEpoch 1:  82%|████████▏ | 246/300 [10:58<02:24,  2.68s/it, loss=2.261, v_num=0]\rEpoch 1:  82%|████████▏ | 247/300 [10:59<02:21,  2.67s/it, loss=2.261, v_num=0]\rEpoch 1:  82%|████████▏ | 247/300 [10:59<02:21,  2.67s/it, loss=2.245, v_num=0]\rEpoch 1:  83%|████████▎ | 248/300 [10:59<02:18,  2.66s/it, loss=2.245, v_num=0]\rEpoch 1:  83%|████████▎ | 248/300 [10:59<02:18,  2.66s/it, loss=2.179, v_num=0]\rEpoch 1:  83%|████████▎ | 249/300 [11:00<02:15,  2.65s/it, loss=2.179, v_num=0]\rEpoch 1:  83%|████████▎ | 249/300 [11:00<02:15,  2.65s/it, loss=2.184, v_num=0]\rEpoch 1:  83%|████████▎ | 250/300 [11:01<02:12,  2.64s/it, loss=2.184, v_num=0]\rEpoch 1:  83%|████████▎ | 250/300 [11:01<02:12,  2.64s/it, loss=2.239, v_num=0]\n",
            "\rValidating: 0it [00:00, ?it/s]\u001b[A\n",
            "\rValidating:   5%|▌         | 1/20 [00:02<00:43,  2.29s/it]\u001b[A\rEpoch 1:  84%|████████▎ | 251/300 [11:03<02:09,  2.64s/it, loss=2.239, v_num=0]\n",
            "\rValidating:  10%|█         | 2/20 [00:04<00:39,  2.20s/it]\u001b[A\rEpoch 1:  84%|████████▍ | 252/300 [11:05<02:06,  2.64s/it, loss=2.239, v_num=0]\n",
            "\rValidating:  15%|█▌        | 3/20 [00:06<00:37,  2.23s/it]\u001b[A\rEpoch 1:  84%|████████▍ | 253/300 [11:07<02:04,  2.64s/it, loss=2.239, v_num=0]\n",
            "\rValidating:  20%|██        | 4/20 [00:09<00:37,  2.32s/it]\u001b[A\rEpoch 1:  85%|████████▍ | 254/300 [11:10<02:01,  2.64s/it, loss=2.239, v_num=0]\n",
            "\rValidating:  25%|██▌       | 5/20 [00:10<00:32,  2.15s/it]\u001b[A\rEpoch 1:  85%|████████▌ | 255/300 [11:11<01:58,  2.63s/it, loss=2.239, v_num=0]\n",
            "\rValidating:  30%|███       | 6/20 [00:13<00:30,  2.19s/it]\u001b[A\rEpoch 1:  85%|████████▌ | 256/300 [11:14<01:55,  2.63s/it, loss=2.239, v_num=0]\n",
            "\rValidating:  35%|███▌      | 7/20 [00:15<00:28,  2.22s/it]\u001b[A\rEpoch 1:  86%|████████▌ | 257/300 [11:16<01:53,  2.63s/it, loss=2.239, v_num=0]\n",
            "\rValidating:  40%|████      | 8/20 [00:17<00:25,  2.16s/it]\u001b[A\rEpoch 1:  86%|████████▌ | 258/300 [11:18<01:50,  2.63s/it, loss=2.239, v_num=0]\n",
            "\rValidating:  45%|████▌     | 9/20 [00:20<00:25,  2.34s/it]\u001b[A\rEpoch 1:  86%|████████▋ | 259/300 [11:21<01:47,  2.63s/it, loss=2.239, v_num=0]\n",
            "\rValidating:  50%|█████     | 10/20 [00:22<00:23,  2.32s/it]\u001b[A\rEpoch 1:  87%|████████▋ | 260/300 [11:23<01:45,  2.63s/it, loss=2.239, v_num=0]\n",
            "\rValidating:  55%|█████▌    | 11/20 [00:24<00:21,  2.34s/it]\u001b[A\rEpoch 1:  87%|████████▋ | 261/300 [11:25<01:42,  2.63s/it, loss=2.239, v_num=0]\n",
            "\rValidating:  60%|██████    | 12/20 [00:28<00:20,  2.59s/it]\u001b[A\rEpoch 1:  87%|████████▋ | 262/300 [11:29<01:39,  2.63s/it, loss=2.239, v_num=0]\n",
            "\rValidating:  65%|██████▌   | 13/20 [00:30<00:17,  2.56s/it]\u001b[A\rEpoch 1:  88%|████████▊ | 263/300 [11:31<01:37,  2.63s/it, loss=2.239, v_num=0]\n",
            "\rValidating:  70%|███████   | 14/20 [00:32<00:14,  2.45s/it]\u001b[A\rEpoch 1:  88%|████████▊ | 264/300 [11:33<01:34,  2.63s/it, loss=2.239, v_num=0]\n",
            "\rValidating:  75%|███████▌  | 15/20 [00:35<00:12,  2.43s/it]\u001b[A\rEpoch 1:  88%|████████▊ | 265/300 [11:36<01:31,  2.63s/it, loss=2.239, v_num=0]\n",
            "\rValidating:  80%|████████  | 16/20 [00:37<00:09,  2.36s/it]\u001b[A\rEpoch 1:  89%|████████▊ | 266/300 [11:38<01:29,  2.63s/it, loss=2.239, v_num=0]\n",
            "\rValidating:  85%|████████▌ | 17/20 [00:39<00:06,  2.31s/it]\u001b[A\rEpoch 1:  89%|████████▉ | 267/300 [11:40<01:26,  2.62s/it, loss=2.239, v_num=0]\n",
            "\rValidating:  90%|█████████ | 18/20 [00:42<00:04,  2.40s/it]\u001b[A\rEpoch 1:  89%|████████▉ | 268/300 [11:43<01:23,  2.62s/it, loss=2.239, v_num=0]\n",
            "\rValidating:  95%|█████████▌| 19/20 [00:44<00:02,  2.50s/it]\u001b[A\rEpoch 1:  90%|████████▉ | 269/300 [11:45<01:21,  2.62s/it, loss=2.239, v_num=0]\n",
            "\rValidating: 100%|██████████| 20/20 [00:47<00:00,  2.44s/it]\u001b[A\rEpoch 1:  90%|█████████ | 270/300 [11:48<01:18,  2.62s/it, loss=2.239, v_num=0]\rEpoch 1:  90%|█████████ | 270/300 [11:48<01:18,  2.62s/it, loss=2.239, v_num=0]\n",
            "\r                                                           \u001b[A\rEpoch 1:  90%|█████████ | 271/300 [11:48<01:15,  2.61s/it, loss=2.239, v_num=0]\rEpoch 1:  90%|█████████ | 271/300 [11:48<01:15,  2.61s/it, loss=2.177, v_num=0]\rEpoch 1:  91%|█████████ | 272/300 [11:48<01:12,  2.61s/it, loss=2.177, v_num=0]\rEpoch 1:  91%|█████████ | 272/300 [11:48<01:12,  2.61s/it, loss=2.203, v_num=0]\rEpoch 1:  91%|█████████ | 273/300 [11:49<01:10,  2.60s/it, loss=2.203, v_num=0]\rEpoch 1:  91%|█████████ | 273/300 [11:49<01:10,  2.60s/it, loss=2.234, v_num=0]\rEpoch 1:  91%|█████████▏| 274/300 [11:50<01:07,  2.59s/it, loss=2.234, v_num=0]\rEpoch 1:  91%|█████████▏| 274/300 [11:50<01:07,  2.59s/it, loss=2.191, v_num=0]\rEpoch 1:  92%|█████████▏| 275/300 [11:50<01:04,  2.58s/it, loss=2.191, v_num=0]\rEpoch 1:  92%|█████████▏| 275/300 [11:50<01:04,  2.58s/it, loss=2.196, v_num=0]\rEpoch 1:  92%|█████████▏| 276/300 [11:51<01:01,  2.58s/it, loss=2.196, v_num=0]\rEpoch 1:  92%|█████████▏| 276/300 [11:51<01:01,  2.58s/it, loss=2.178, v_num=0]\rEpoch 1:  92%|█████████▏| 277/300 [11:51<00:59,  2.57s/it, loss=2.178, v_num=0]\rEpoch 1:  92%|█████████▏| 277/300 [11:51<00:59,  2.57s/it, loss=2.096, v_num=0]\rEpoch 1:  93%|█████████▎| 278/300 [11:52<00:56,  2.56s/it, loss=2.096, v_num=0]\rEpoch 1:  93%|█████████▎| 278/300 [11:52<00:56,  2.56s/it, loss=2.055, v_num=0]\rEpoch 1:  93%|█████████▎| 279/300 [11:52<00:53,  2.55s/it, loss=2.055, v_num=0]\rEpoch 1:  93%|█████████▎| 279/300 [11:52<00:53,  2.55s/it, loss=1.997, v_num=0]\rEpoch 1:  93%|█████████▎| 280/300 [11:53<00:50,  2.55s/it, loss=1.997, v_num=0]\rEpoch 1:  93%|█████████▎| 280/300 [11:53<00:50,  2.55s/it, loss=2.001, v_num=0]\n",
            "\rValidating: 0it [00:00, ?it/s]\u001b[A\n",
            "\rValidating:   5%|▌         | 1/20 [00:02<00:50,  2.65s/it]\u001b[A\rEpoch 1:  94%|█████████▎| 281/300 [11:55<00:48,  2.55s/it, loss=2.001, v_num=0]\n",
            "\rValidating:  10%|█         | 2/20 [00:04<00:43,  2.42s/it]\u001b[A\rEpoch 1:  94%|█████████▍| 282/300 [11:57<00:45,  2.54s/it, loss=2.001, v_num=0]\n",
            "\rValidating:  15%|█▌        | 3/20 [00:06<00:40,  2.36s/it]\u001b[A\rEpoch 1:  94%|█████████▍| 283/300 [11:59<00:43,  2.54s/it, loss=2.001, v_num=0]\n",
            "\rValidating:  20%|██        | 4/20 [00:09<00:38,  2.42s/it]\u001b[A\rEpoch 1:  95%|█████████▍| 284/300 [12:02<00:40,  2.54s/it, loss=2.001, v_num=0]\n",
            "\rValidating:  25%|██▌       | 5/20 [00:11<00:33,  2.22s/it]\u001b[A\rEpoch 1:  95%|█████████▌| 285/300 [12:04<00:38,  2.54s/it, loss=2.001, v_num=0]\n",
            "\rValidating:  30%|███       | 6/20 [00:13<00:31,  2.25s/it]\u001b[A\rEpoch 1:  95%|█████████▌| 286/300 [12:06<00:35,  2.54s/it, loss=2.001, v_num=0]\n",
            "\rValidating:  35%|███▌      | 7/20 [00:15<00:30,  2.31s/it]\u001b[A\rEpoch 1:  96%|█████████▌| 287/300 [12:08<00:33,  2.54s/it, loss=2.001, v_num=0]\n",
            "\rValidating:  40%|████      | 8/20 [00:17<00:25,  2.16s/it]\u001b[A\rEpoch 1:  96%|█████████▌| 288/300 [12:10<00:30,  2.54s/it, loss=2.001, v_num=0]\n",
            "\rValidating:  45%|████▌     | 9/20 [00:20<00:24,  2.24s/it]\u001b[A\rEpoch 1:  96%|█████████▋| 289/300 [12:13<00:27,  2.54s/it, loss=2.001, v_num=0]\n",
            "\rValidating:  50%|█████     | 10/20 [00:22<00:21,  2.19s/it]\u001b[A\rEpoch 1:  97%|█████████▋| 290/300 [12:15<00:25,  2.54s/it, loss=2.001, v_num=0]\n",
            "\rValidating:  55%|█████▌    | 11/20 [00:24<00:20,  2.25s/it]\u001b[A\rEpoch 1:  97%|█████████▋| 291/300 [12:17<00:22,  2.54s/it, loss=2.001, v_num=0]\n",
            "\rValidating:  60%|██████    | 12/20 [00:27<00:20,  2.57s/it]\u001b[A\rEpoch 1:  97%|█████████▋| 292/300 [12:21<00:20,  2.54s/it, loss=2.001, v_num=0]\n",
            "\rValidating:  65%|██████▌   | 13/20 [00:30<00:18,  2.59s/it]\u001b[A\rEpoch 1:  98%|█████████▊| 293/300 [12:23<00:17,  2.54s/it, loss=2.001, v_num=0]\n",
            "\rValidating:  70%|███████   | 14/20 [00:32<00:14,  2.42s/it]\u001b[A\rEpoch 1:  98%|█████████▊| 294/300 [12:25<00:15,  2.54s/it, loss=2.001, v_num=0]\n",
            "\rValidating:  75%|███████▌  | 15/20 [00:34<00:12,  2.41s/it]\u001b[A\rEpoch 1:  98%|█████████▊| 295/300 [12:28<00:12,  2.54s/it, loss=2.001, v_num=0]\n",
            "\rValidating:  80%|████████  | 16/20 [00:36<00:09,  2.29s/it]\u001b[A\rEpoch 1:  99%|█████████▊| 296/300 [12:30<00:10,  2.53s/it, loss=2.001, v_num=0]\n",
            "\rValidating:  85%|████████▌ | 17/20 [00:39<00:06,  2.27s/it]\u001b[A\rEpoch 1:  99%|█████████▉| 297/300 [12:32<00:07,  2.53s/it, loss=2.001, v_num=0]\n",
            "\rValidating:  90%|█████████ | 18/20 [00:41<00:04,  2.32s/it]\u001b[A\rEpoch 1:  99%|█████████▉| 298/300 [12:34<00:05,  2.53s/it, loss=2.001, v_num=0]\n",
            "\rValidating:  95%|█████████▌| 19/20 [00:43<00:02,  2.34s/it]\u001b[A\rEpoch 1: 100%|█████████▉| 299/300 [12:37<00:02,  2.53s/it, loss=2.001, v_num=0]\n",
            "\rValidating: 100%|██████████| 20/20 [00:46<00:00,  2.31s/it]\u001b[A\rEpoch 1: 100%|██████████| 300/300 [12:39<00:00,  2.53s/it, loss=2.001, v_num=0]\rEpoch 1: 100%|██████████| 300/300 [12:39<00:00,  2.53s/it, loss=2.001, v_num=0]\n",
            "\r                                                           \u001b[A\rEpoch 1: 100%|██████████| 300/300 [12:39<00:00,  2.53s/it, loss=2.001, v_num=0]"
          ],
          "name": "stdout"
        },
        {
          "output_type": "stream",
          "text": [
            "2020-09-30 22:43:37.460688: I tensorflow/stream_executor/platform/default/dso_loader.cc:48] Successfully opened dynamic library libcudart.so.10.1\n",
            "\rDownloading:   0%|          | 0.00/1.34k [00:00<?, ?B/s]\rDownloading: 100%|██████████| 1.34k/1.34k [00:00<00:00, 1.12MB/s]\n",
            "\rDownloading:   0%|          | 0.00/899k [00:00<?, ?B/s]\rDownloading:   6%|▌         | 52.2k/899k [00:00<00:02, 415kB/s]\rDownloading:  23%|██▎       | 209k/899k [00:00<00:01, 518kB/s] \rDownloading: 100%|██████████| 899k/899k [00:00<00:00, 2.78MB/s]\n",
            "\rDownloading:   0%|          | 0.00/456k [00:00<?, ?B/s]\rDownloading:  11%|█▏        | 52.2k/456k [00:00<00:01, 400kB/s]\rDownloading:  42%|████▏     | 191k/456k [00:00<00:00, 493kB/s] \rDownloading: 100%|██████████| 456k/456k [00:00<00:00, 1.39MB/s]\n",
            "\rDownloading:   0%|          | 0.00/1.63G [00:00<?, ?B/s]\rDownloading:   0%|          | 3.61M/1.63G [00:00<00:44, 36.1MB/s]\rDownloading:   1%|          | 12.0M/1.63G [00:00<00:37, 43.5MB/s]\rDownloading:   1%|          | 15.2M/1.63G [00:00<00:42, 37.6MB/s]\rDownloading:   1%|          | 18.3M/1.63G [00:00<00:54, 29.6MB/s]\rDownloading:   2%|▏         | 25.9M/1.63G [00:00<00:44, 36.2MB/s]\rDownloading:   2%|▏         | 33.1M/1.63G [00:00<00:37, 42.6MB/s]\rDownloading:   3%|▎         | 40.8M/1.63G [00:00<00:32, 49.2MB/s]\rDownloading:   3%|▎         | 46.7M/1.63G [00:01<00:47, 33.5MB/s]\rDownloading:   3%|▎         | 51.4M/1.63G [00:01<00:52, 30.0MB/s]\rDownloading:   3%|▎         | 55.4M/1.63G [00:01<00:50, 31.1MB/s]\rDownloading:   4%|▎         | 60.1M/1.63G [00:01<00:45, 34.5MB/s]\rDownloading:   4%|▍         | 65.5M/1.63G [00:01<00:40, 38.5MB/s]\rDownloading:   4%|▍         | 69.9M/1.63G [00:01<00:58, 26.4MB/s]\rDownloading:   5%|▍         | 73.5M/1.63G [00:01<00:54, 28.5MB/s]\rDownloading:   5%|▍         | 79.5M/1.63G [00:02<00:45, 33.8MB/s]\rDownloading:   5%|▌         | 84.2M/1.63G [00:02<00:42, 36.6MB/s]\rDownloading:   5%|▌         | 88.9M/1.63G [00:02<00:39, 38.7MB/s]\rDownloading:   6%|▌         | 93.3M/1.63G [00:02<00:41, 36.9MB/s]\rDownloading:   6%|▌         | 97.4M/1.63G [00:02<00:40, 37.5MB/s]\rDownloading:   6%|▋         | 103M/1.63G [00:02<00:37, 41.1MB/s] \rDownloading:   7%|▋         | 107M/1.63G [00:02<00:36, 41.0MB/s]\rDownloading:   7%|▋         | 114M/1.63G [00:02<00:32, 46.9MB/s]\rDownloading:   7%|▋         | 119M/1.63G [00:02<00:35, 42.5MB/s]\rDownloading:   8%|▊         | 124M/1.63G [00:03<00:47, 31.8MB/s]\rDownloading:   8%|▊         | 128M/1.63G [00:03<00:45, 33.3MB/s]\rDownloading:   8%|▊         | 132M/1.63G [00:03<00:46, 31.8MB/s]\rDownloading:   8%|▊         | 137M/1.63G [00:03<00:41, 35.7MB/s]\rDownloading:   9%|▉         | 144M/1.63G [00:03<00:35, 41.5MB/s]\rDownloading:   9%|▉         | 150M/1.63G [00:03<00:31, 46.2MB/s]\rDownloading:  10%|▉         | 155M/1.63G [00:03<00:30, 47.5MB/s]\rDownloading:  10%|▉         | 160M/1.63G [00:03<00:30, 48.6MB/s]\rDownloading:  10%|█         | 166M/1.63G [00:04<00:30, 47.2MB/s]\rDownloading:  10%|█         | 171M/1.63G [00:04<00:40, 36.3MB/s]\rDownloading:  11%|█         | 178M/1.63G [00:04<00:33, 43.2MB/s]\rDownloading:  11%|█▏        | 184M/1.63G [00:04<00:40, 35.3MB/s]\rDownloading:  12%|█▏        | 188M/1.63G [00:04<00:39, 36.3MB/s]\rDownloading:  12%|█▏        | 192M/1.63G [00:04<00:37, 38.3MB/s]\rDownloading:  12%|█▏        | 197M/1.63G [00:04<00:36, 39.5MB/s]\rDownloading:  12%|█▏        | 201M/1.63G [00:05<00:42, 33.8MB/s]\rDownloading:  13%|█▎        | 205M/1.63G [00:05<00:39, 36.1MB/s]\rDownloading:  13%|█▎        | 211M/1.63G [00:05<00:35, 39.9MB/s]\rDownloading:  13%|█▎        | 215M/1.63G [00:05<00:38, 36.8MB/s]\rDownloading:  13%|█▎        | 219M/1.63G [00:05<00:48, 29.3MB/s]\rDownloading:  14%|█▎        | 223M/1.63G [00:05<00:43, 32.1MB/s]\rDownloading:  14%|█▍        | 228M/1.63G [00:05<00:39, 35.0MB/s]\rDownloading:  14%|█▍        | 233M/1.63G [00:05<00:35, 38.9MB/s]\rDownloading:  15%|█▍        | 237M/1.63G [00:06<00:40, 33.9MB/s]\rDownloading:  15%|█▌        | 244M/1.63G [00:06<00:34, 40.1MB/s]\rDownloading:  15%|█▌        | 250M/1.63G [00:06<00:30, 44.5MB/s]\rDownloading:  16%|█▌        | 257M/1.63G [00:06<00:27, 49.3MB/s]\rDownloading:  16%|█▌        | 263M/1.63G [00:06<00:28, 47.2MB/s]\rDownloading:  16%|█▋        | 268M/1.63G [00:06<00:43, 31.0MB/s]\rDownloading:  17%|█▋        | 274M/1.63G [00:06<00:36, 36.5MB/s]\rDownloading:  17%|█▋        | 281M/1.63G [00:07<00:31, 42.6MB/s]\rDownloading:  18%|█▊        | 288M/1.63G [00:07<00:27, 47.8MB/s]\rDownloading:  18%|█▊        | 293M/1.63G [00:07<00:27, 47.7MB/s]\rDownloading:  18%|█▊        | 299M/1.63G [00:07<00:36, 36.5MB/s]\rDownloading:  19%|█▉        | 305M/1.63G [00:07<00:32, 41.0MB/s]\rDownloading:  19%|█▉        | 310M/1.63G [00:07<00:32, 40.5MB/s]\rDownloading:  19%|█▉        | 314M/1.63G [00:07<00:31, 42.0MB/s]\rDownloading:  20%|█▉        | 321M/1.63G [00:07<00:28, 45.7MB/s]\rDownloading:  20%|██        | 327M/1.63G [00:08<00:26, 49.7MB/s]\rDownloading:  20%|██        | 332M/1.63G [00:08<00:26, 49.6MB/s]\rDownloading:  21%|██        | 339M/1.63G [00:08<00:24, 53.2MB/s]\rDownloading:  21%|██▏       | 346M/1.63G [00:08<00:22, 57.7MB/s]\rDownloading:  22%|██▏       | 352M/1.63G [00:08<00:23, 54.8MB/s]\rDownloading:  22%|██▏       | 359M/1.63G [00:08<00:22, 57.4MB/s]\rDownloading:  22%|██▏       | 365M/1.63G [00:08<00:21, 58.2MB/s]\rDownloading:  23%|██▎       | 371M/1.63G [00:08<00:22, 56.0MB/s]\rDownloading:  23%|██▎       | 377M/1.63G [00:08<00:21, 57.3MB/s]\rDownloading:  24%|██▎       | 384M/1.63G [00:08<00:20, 60.5MB/s]\rDownloading:  24%|██▍       | 390M/1.63G [00:09<00:27, 44.9MB/s]\rDownloading:  24%|██▍       | 396M/1.63G [00:09<00:25, 48.1MB/s]\rDownloading:  25%|██▍       | 402M/1.63G [00:09<00:26, 46.2MB/s]\rDownloading:  25%|██▌       | 410M/1.63G [00:09<00:23, 52.5MB/s]\rDownloading:  26%|██▌       | 416M/1.63G [00:09<00:21, 56.4MB/s]\rDownloading:  26%|██▌       | 423M/1.63G [00:09<00:21, 57.0MB/s]\rDownloading:  26%|██▋       | 429M/1.63G [00:09<00:24, 48.9MB/s]\rDownloading:  27%|██▋       | 434M/1.63G [00:10<00:25, 46.1MB/s]\rDownloading:  27%|██▋       | 440M/1.63G [00:10<00:24, 49.3MB/s]\rDownloading:  27%|██▋       | 445M/1.63G [00:10<00:23, 50.9MB/s]\rDownloading:  28%|██▊       | 452M/1.63G [00:10<00:21, 54.8MB/s]\rDownloading:  28%|██▊       | 459M/1.63G [00:10<00:19, 59.1MB/s]\rDownloading:  29%|██▊       | 465M/1.63G [00:10<00:25, 45.4MB/s]\rDownloading:  29%|██▉       | 471M/1.63G [00:10<00:24, 46.2MB/s]\rDownloading:  29%|██▉       | 477M/1.63G [00:10<00:23, 48.1MB/s]\rDownloading:  30%|██▉       | 483M/1.63G [00:10<00:21, 52.9MB/s]\rDownloading:  30%|███       | 489M/1.63G [00:11<00:21, 53.8MB/s]\rDownloading:  31%|███       | 497M/1.63G [00:11<00:19, 58.8MB/s]\rDownloading:  31%|███       | 504M/1.63G [00:11<00:17, 63.1MB/s]\rDownloading:  31%|███▏      | 511M/1.63G [00:11<00:18, 60.1MB/s]\rDownloading:  32%|███▏      | 517M/1.63G [00:11<00:19, 58.2MB/s]\rDownloading:  32%|███▏      | 523M/1.63G [00:11<00:20, 54.4MB/s]\rDownloading:  33%|███▎      | 529M/1.63G [00:11<00:21, 51.2MB/s]\rDownloading:  33%|███▎      | 534M/1.63G [00:11<00:27, 39.7MB/s]\rDownloading:  33%|███▎      | 539M/1.63G [00:12<00:35, 30.2MB/s]\rDownloading:  33%|███▎      | 544M/1.63G [00:12<00:31, 34.6MB/s]\rDownloading:  34%|███▍      | 549M/1.63G [00:12<00:28, 37.7MB/s]\rDownloading:  34%|███▍      | 553M/1.63G [00:12<00:28, 37.0MB/s]\rDownloading:  34%|███▍      | 559M/1.63G [00:12<00:25, 41.9MB/s]\rDownloading:  35%|███▍      | 564M/1.63G [00:12<00:25, 41.7MB/s]\rDownloading:  35%|███▍      | 568M/1.63G [00:13<00:47, 22.2MB/s]\rDownloading:  35%|███▌      | 574M/1.63G [00:13<00:38, 27.1MB/s]\rDownloading:  36%|███▌      | 579M/1.63G [00:13<00:34, 30.0MB/s]\rDownloading:  36%|███▌      | 584M/1.63G [00:13<00:30, 34.2MB/s]\rDownloading:  36%|███▌      | 589M/1.63G [00:13<00:28, 36.7MB/s]\rDownloading:  36%|███▋      | 593M/1.63G [00:13<00:28, 35.9MB/s]\rDownloading:  37%|███▋      | 598M/1.63G [00:13<00:26, 38.3MB/s]\rDownloading:  37%|███▋      | 603M/1.63G [00:13<00:24, 41.2MB/s]\rDownloading:  37%|███▋      | 607M/1.63G [00:14<00:23, 42.5MB/s]\rDownloading:  38%|███▊      | 613M/1.63G [00:14<00:22, 45.4MB/s]\rDownloading:  38%|███▊      | 619M/1.63G [00:14<00:20, 49.3MB/s]\rDownloading:  38%|███▊      | 626M/1.63G [00:14<00:18, 53.0MB/s]\rDownloading:  39%|███▉      | 631M/1.63G [00:14<00:19, 50.7MB/s]\rDownloading:  39%|███▉      | 637M/1.63G [00:14<00:19, 50.4MB/s]\rDownloading:  39%|███▉      | 642M/1.63G [00:14<00:19, 50.2MB/s]\rDownloading:  40%|███▉      | 647M/1.63G [00:14<00:27, 35.9MB/s]\rDownloading:  40%|████      | 651M/1.63G [00:15<00:30, 32.2MB/s]\rDownloading:  40%|████      | 655M/1.63G [00:15<00:30, 31.7MB/s]\rDownloading:  41%|████      | 662M/1.63G [00:15<00:25, 38.0MB/s]\rDownloading:  41%|████      | 668M/1.63G [00:15<00:22, 42.0MB/s]\rDownloading:  41%|████▏     | 673M/1.63G [00:15<00:26, 36.6MB/s]\rDownloading:  42%|████▏     | 677M/1.63G [00:15<00:25, 36.6MB/s]\rDownloading:  42%|████▏     | 683M/1.63G [00:15<00:22, 41.6MB/s]\rDownloading:  42%|████▏     | 688M/1.63G [00:15<00:22, 41.2MB/s]\rDownloading:  43%|████▎     | 692M/1.63G [00:16<00:21, 42.4MB/s]\rDownloading:  43%|████▎     | 697M/1.63G [00:16<00:26, 34.5MB/s]\rDownloading:  43%|████▎     | 701M/1.63G [00:16<00:32, 28.7MB/s]\rDownloading:  43%|████▎     | 705M/1.63G [00:16<00:28, 31.8MB/s]\rDownloading:  44%|████▎     | 709M/1.63G [00:16<00:26, 34.8MB/s]\rDownloading:  44%|████▍     | 713M/1.63G [00:16<00:26, 34.8MB/s]\rDownloading:  44%|████▍     | 718M/1.63G [00:16<00:24, 37.4MB/s]\rDownloading:  45%|████▍     | 726M/1.63G [00:16<00:20, 44.4MB/s]\rDownloading:  45%|████▍     | 731M/1.63G [00:16<00:19, 45.5MB/s]\rDownloading:  45%|████▌     | 737M/1.63G [00:17<00:18, 49.3MB/s]\rDownloading:  46%|████▌     | 743M/1.63G [00:17<00:16, 52.9MB/s]\rDownloading:  46%|████▌     | 749M/1.63G [00:17<00:19, 43.9MB/s]\rDownloading:  46%|████▋     | 754M/1.63G [00:17<00:22, 38.9MB/s]\rDownloading:  47%|████▋     | 761M/1.63G [00:17<00:19, 45.3MB/s]\rDownloading:  47%|████▋     | 767M/1.63G [00:17<00:18, 45.4MB/s]\rDownloading:  47%|████▋     | 772M/1.63G [00:17<00:18, 47.0MB/s]\rDownloading:  48%|████▊     | 777M/1.63G [00:17<00:19, 43.8MB/s]\rDownloading:  48%|████▊     | 784M/1.63G [00:18<00:17, 49.2MB/s]\rDownloading:  49%|████▊     | 789M/1.63G [00:18<00:16, 51.2MB/s]\rDownloading:  49%|████▉     | 795M/1.63G [00:18<00:24, 34.5MB/s]\rDownloading:  49%|████▉     | 799M/1.63G [00:18<00:28, 29.1MB/s]\rDownloading:  49%|████▉     | 803M/1.63G [00:18<00:31, 26.5MB/s]\rDownloading:  50%|████▉     | 808M/1.63G [00:18<00:26, 31.2MB/s]\rDownloading:  50%|█████     | 814M/1.63G [00:19<00:22, 36.1MB/s]\rDownloading:  50%|█████     | 818M/1.63G [00:19<00:22, 35.3MB/s]\rDownloading:  51%|█████     | 822M/1.63G [00:19<00:22, 36.4MB/s]\rDownloading:  51%|█████     | 830M/1.63G [00:19<00:18, 42.9MB/s]\rDownloading:  51%|█████▏    | 835M/1.63G [00:19<00:21, 36.7MB/s]\rDownloading:  52%|█████▏    | 839M/1.63G [00:19<00:20, 38.3MB/s]\rDownloading:  52%|█████▏    | 843M/1.63G [00:19<00:19, 39.5MB/s]\rDownloading:  52%|█████▏    | 848M/1.63G [00:19<00:22, 33.9MB/s]\rDownloading:  52%|█████▏    | 852M/1.63G [00:20<00:26, 29.0MB/s]\rDownloading:  53%|█████▎    | 855M/1.63G [00:20<00:31, 24.1MB/s]\rDownloading:  53%|█████▎    | 859M/1.63G [00:20<00:27, 27.8MB/s]\rDownloading:  53%|█████▎    | 863M/1.63G [00:20<00:24, 30.5MB/s]\rDownloading:  53%|█████▎    | 867M/1.63G [00:20<00:25, 29.4MB/s]\rDownloading:  54%|█████▎    | 870M/1.63G [00:20<00:26, 28.5MB/s]\rDownloading:  54%|█████▍    | 874M/1.63G [00:20<00:24, 31.0MB/s]\rDownloading:  54%|█████▍    | 879M/1.63G [00:20<00:21, 34.8MB/s]\rDownloading:  54%|█████▍    | 884M/1.63G [00:21<00:19, 38.7MB/s]\rDownloading:  55%|█████▍    | 888M/1.63G [00:21<00:22, 32.4MB/s]\rDownloading:  55%|█████▍    | 892M/1.63G [00:21<00:25, 28.2MB/s]\rDownloading:  55%|█████▌    | 898M/1.63G [00:21<00:21, 33.6MB/s]\rDownloading:  56%|█████▌    | 902M/1.63G [00:21<00:21, 34.0MB/s]\rDownloading:  56%|█████▌    | 906M/1.63G [00:21<00:22, 31.5MB/s]\rDownloading:  56%|█████▌    | 913M/1.63G [00:21<00:18, 37.6MB/s]\rDownloading:  57%|█████▋    | 920M/1.63G [00:21<00:16, 43.1MB/s]\rDownloading:  57%|█████▋    | 925M/1.63G [00:22<00:19, 36.1MB/s]\rDownloading:  57%|█████▋    | 929M/1.63G [00:22<00:25, 27.3MB/s]\rDownloading:  57%|█████▋    | 934M/1.63G [00:22<00:23, 30.0MB/s]\rDownloading:  58%|█████▊    | 939M/1.63G [00:22<00:19, 34.6MB/s]\rDownloading:  58%|█████▊    | 946M/1.63G [00:22<00:16, 40.9MB/s]\rDownloading:  59%|█████▊    | 951M/1.63G [00:22<00:15, 44.1MB/s]\rDownloading:  59%|█████▉    | 957M/1.63G [00:22<00:15, 42.0MB/s]\rDownloading:  59%|█████▉    | 961M/1.63G [00:23<00:17, 38.1MB/s]\rDownloading:  59%|█████▉    | 966M/1.63G [00:23<00:16, 39.5MB/s]\rDownloading:  60%|█████▉    | 971M/1.63G [00:23<00:15, 42.0MB/s]\rDownloading:  60%|██████    | 977M/1.63G [00:23<00:13, 46.6MB/s]\rDownloading:  60%|██████    | 982M/1.63G [00:23<00:16, 39.0MB/s]\rDownloading:  61%|██████    | 987M/1.63G [00:23<00:15, 41.4MB/s]\rDownloading:  61%|██████    | 991M/1.63G [00:23<00:17, 37.0MB/s]\rDownloading:  61%|██████▏   | 996M/1.63G [00:23<00:16, 39.0MB/s]\rDownloading:  62%|██████▏   | 1.00G/1.63G [00:24<00:14, 41.8MB/s]\rDownloading:  62%|██████▏   | 1.01G/1.63G [00:24<00:16, 36.7MB/s]\rDownloading:  62%|██████▏   | 1.01G/1.63G [00:24<00:15, 40.1MB/s]\rDownloading:  62%|██████▏   | 1.02G/1.63G [00:24<00:17, 35.5MB/s]\rDownloading:  63%|██████▎   | 1.02G/1.63G [00:24<00:16, 35.9MB/s]\rDownloading:  63%|██████▎   | 1.02G/1.63G [00:24<00:17, 34.4MB/s]\rDownloading:  63%|██████▎   | 1.03G/1.63G [00:24<00:24, 24.3MB/s]\rDownloading:  64%|██████▎   | 1.04G/1.63G [00:25<00:19, 30.3MB/s]\rDownloading:  64%|██████▍   | 1.04G/1.63G [00:25<00:18, 32.0MB/s]\rDownloading:  64%|██████▍   | 1.04G/1.63G [00:25<00:24, 23.5MB/s]\rDownloading:  64%|██████▍   | 1.05G/1.63G [00:25<00:26, 21.8MB/s]\rDownloading:  65%|██████▍   | 1.05G/1.63G [00:25<00:22, 25.7MB/s]\rDownloading:  65%|██████▍   | 1.06G/1.63G [00:25<00:20, 27.3MB/s]\rDownloading:  65%|██████▌   | 1.06G/1.63G [00:25<00:19, 29.3MB/s]\rDownloading:  65%|██████▌   | 1.06G/1.63G [00:26<00:20, 28.1MB/s]\rDownloading:  66%|██████▌   | 1.07G/1.63G [00:26<00:17, 32.2MB/s]\rDownloading:  66%|██████▌   | 1.07G/1.63G [00:26<00:14, 36.8MB/s]\rDownloading:  66%|██████▋   | 1.08G/1.63G [00:26<00:17, 31.2MB/s]\rDownloading:  67%|██████▋   | 1.08G/1.63G [00:26<00:21, 25.5MB/s]\rDownloading:  67%|██████▋   | 1.09G/1.63G [00:26<00:17, 31.4MB/s]\rDownloading:  67%|██████▋   | 1.09G/1.63G [00:27<00:21, 25.3MB/s]\rDownloading:  67%|██████▋   | 1.10G/1.63G [00:27<00:19, 26.5MB/s]\rDownloading:  68%|██████▊   | 1.10G/1.63G [00:27<00:17, 30.2MB/s]\rDownloading:  68%|██████▊   | 1.10G/1.63G [00:27<00:19, 26.4MB/s]\rDownloading:  68%|██████▊   | 1.11G/1.63G [00:27<00:17, 29.7MB/s]\rDownloading:  69%|██████▊   | 1.12G/1.63G [00:27<00:14, 36.1MB/s]\rDownloading:  69%|██████▉   | 1.12G/1.63G [00:27<00:12, 40.0MB/s]\rDownloading:  69%|██████▉   | 1.13G/1.63G [00:27<00:12, 40.5MB/s]\rDownloading:  70%|██████▉   | 1.13G/1.63G [00:28<00:17, 28.5MB/s]\rDownloading:  70%|██████▉   | 1.14G/1.63G [00:28<00:14, 33.6MB/s]\rDownloading:  70%|███████   | 1.14G/1.63G [00:28<00:13, 34.8MB/s]\rDownloading:  70%|███████   | 1.15G/1.63G [00:28<00:14, 33.4MB/s]\rDownloading:  71%|███████   | 1.15G/1.63G [00:28<00:15, 31.3MB/s]\rDownloading:  71%|███████   | 1.15G/1.63G [00:28<00:23, 20.4MB/s]\rDownloading:  71%|███████   | 1.16G/1.63G [00:29<00:21, 21.9MB/s]\rDownloading:  71%|███████▏  | 1.16G/1.63G [00:29<00:20, 23.1MB/s]\rDownloading:  71%|███████▏  | 1.16G/1.63G [00:29<00:20, 22.9MB/s]\rDownloading:  72%|███████▏  | 1.16G/1.63G [00:29<00:18, 24.5MB/s]\rDownloading:  72%|███████▏  | 1.17G/1.63G [00:29<00:18, 24.7MB/s]\rDownloading:  72%|███████▏  | 1.17G/1.63G [00:29<00:16, 27.8MB/s]\rDownloading:  72%|███████▏  | 1.17G/1.63G [00:29<00:15, 28.5MB/s]\rDownloading:  73%|███████▎  | 1.18G/1.63G [00:29<00:13, 32.5MB/s]\rDownloading:  73%|███████▎  | 1.18G/1.63G [00:29<00:13, 33.2MB/s]\rDownloading:  73%|███████▎  | 1.19G/1.63G [00:30<00:11, 38.2MB/s]\rDownloading:  73%|███████▎  | 1.19G/1.63G [00:30<00:10, 40.8MB/s]\rDownloading:  74%|███████▎  | 1.20G/1.63G [00:30<00:10, 40.1MB/s]\rDownloading:  74%|███████▍  | 1.20G/1.63G [00:30<00:11, 35.7MB/s]\rDownloading:  74%|███████▍  | 1.21G/1.63G [00:30<00:11, 37.1MB/s]\rDownloading:  74%|███████▍  | 1.21G/1.63G [00:30<00:14, 28.1MB/s]\rDownloading:  75%|███████▍  | 1.21G/1.63G [00:30<00:12, 31.9MB/s]\rDownloading:  75%|███████▌  | 1.22G/1.63G [00:30<00:11, 36.4MB/s]\rDownloading:  75%|███████▌  | 1.22G/1.63G [00:30<00:10, 38.9MB/s]\rDownloading:  76%|███████▌  | 1.23G/1.63G [00:31<00:09, 42.7MB/s]\rDownloading:  76%|███████▌  | 1.23G/1.63G [00:31<00:08, 43.7MB/s]\rDownloading:  76%|███████▋  | 1.24G/1.63G [00:31<00:08, 43.6MB/s]\rDownloading:  77%|███████▋  | 1.24G/1.63G [00:31<00:10, 35.7MB/s]\rDownloading:  77%|███████▋  | 1.25G/1.63G [00:31<00:10, 36.2MB/s]\rDownloading:  77%|███████▋  | 1.25G/1.63G [00:31<00:11, 32.2MB/s]\rDownloading:  77%|███████▋  | 1.26G/1.63G [00:31<00:09, 37.4MB/s]\rDownloading:  78%|███████▊  | 1.26G/1.63G [00:31<00:09, 38.9MB/s]\rDownloading:  78%|███████▊  | 1.27G/1.63G [00:32<00:09, 37.4MB/s]\rDownloading:  78%|███████▊  | 1.27G/1.63G [00:32<00:08, 40.0MB/s]\rDownloading:  78%|███████▊  | 1.28G/1.63G [00:32<00:08, 40.4MB/s]\rDownloading:  79%|███████▉  | 1.28G/1.63G [00:32<00:07, 46.7MB/s]\rDownloading:  79%|███████▉  | 1.29G/1.63G [00:32<00:06, 50.1MB/s]\rDownloading:  80%|███████▉  | 1.29G/1.63G [00:32<00:06, 48.4MB/s]\rDownloading:  80%|████████  | 1.30G/1.63G [00:32<00:05, 54.3MB/s]\rDownloading:  80%|████████  | 1.31G/1.63G [00:32<00:06, 49.1MB/s]\rDownloading:  81%|████████  | 1.31G/1.63G [00:32<00:05, 52.7MB/s]\rDownloading:  81%|████████  | 1.32G/1.63G [00:33<00:06, 45.3MB/s]\rDownloading:  81%|████████▏ | 1.32G/1.63G [00:33<00:06, 45.1MB/s]\rDownloading:  82%|████████▏ | 1.33G/1.63G [00:33<00:06, 46.6MB/s]\rDownloading:  82%|████████▏ | 1.34G/1.63G [00:33<00:05, 48.3MB/s]\rDownloading:  83%|████████▎ | 1.34G/1.63G [00:33<00:05, 54.6MB/s]\rDownloading:  83%|████████▎ | 1.35G/1.63G [00:33<00:06, 41.4MB/s]\rDownloading:  83%|████████▎ | 1.36G/1.63G [00:33<00:07, 36.9MB/s]\rDownloading:  84%|████████▍ | 1.36G/1.63G [00:34<00:06, 43.1MB/s]\rDownloading:  84%|████████▍ | 1.37G/1.63G [00:34<00:05, 49.0MB/s]\rDownloading:  85%|████████▍ | 1.38G/1.63G [00:34<00:05, 46.7MB/s]\rDownloading:  85%|████████▍ | 1.38G/1.63G [00:34<00:05, 47.8MB/s]\rDownloading:  85%|████████▌ | 1.39G/1.63G [00:34<00:04, 50.8MB/s]\rDownloading:  86%|████████▌ | 1.39G/1.63G [00:34<00:04, 52.4MB/s]\rDownloading:  86%|████████▌ | 1.40G/1.63G [00:34<00:04, 56.4MB/s]\rDownloading:  87%|████████▋ | 1.41G/1.63G [00:34<00:03, 59.8MB/s]\rDownloading:  87%|████████▋ | 1.41G/1.63G [00:34<00:04, 52.6MB/s]\rDownloading:  87%|████████▋ | 1.42G/1.63G [00:35<00:04, 46.6MB/s]\rDownloading:  88%|████████▊ | 1.42G/1.63G [00:35<00:04, 47.2MB/s]\rDownloading:  88%|████████▊ | 1.43G/1.63G [00:35<00:03, 53.5MB/s]\rDownloading:  88%|████████▊ | 1.44G/1.63G [00:35<00:03, 49.0MB/s]\rDownloading:  89%|████████▊ | 1.44G/1.63G [00:35<00:03, 48.9MB/s]\rDownloading:  89%|████████▉ | 1.45G/1.63G [00:35<00:04, 39.6MB/s]\rDownloading:  89%|████████▉ | 1.45G/1.63G [00:36<00:06, 27.3MB/s]\rDownloading:  90%|████████▉ | 1.46G/1.63G [00:36<00:05, 31.5MB/s]\rDownloading:  90%|████████▉ | 1.46G/1.63G [00:36<00:05, 31.1MB/s]\rDownloading:  90%|█████████ | 1.47G/1.63G [00:36<00:04, 35.3MB/s]\rDownloading:  91%|█████████ | 1.47G/1.63G [00:36<00:03, 40.7MB/s]\rDownloading:  91%|█████████ | 1.48G/1.63G [00:36<00:04, 34.4MB/s]\rDownloading:  91%|█████████▏| 1.48G/1.63G [00:36<00:03, 38.6MB/s]\rDownloading:  92%|█████████▏| 1.49G/1.63G [00:36<00:03, 41.6MB/s]\rDownloading:  92%|█████████▏| 1.49G/1.63G [00:36<00:02, 44.1MB/s]\rDownloading:  92%|█████████▏| 1.50G/1.63G [00:37<00:04, 26.4MB/s]\rDownloading:  93%|█████████▎| 1.50G/1.63G [00:37<00:03, 31.3MB/s]\rDownloading:  93%|█████████▎| 1.51G/1.63G [00:37<00:03, 35.1MB/s]\rDownloading:  93%|█████████▎| 1.51G/1.63G [00:37<00:03, 36.0MB/s]\rDownloading:  93%|█████████▎| 1.52G/1.63G [00:37<00:03, 35.1MB/s]\rDownloading:  94%|█████████▎| 1.52G/1.63G [00:37<00:02, 40.2MB/s]\rDownloading:  94%|█████████▍| 1.53G/1.63G [00:37<00:02, 40.7MB/s]\rDownloading:  94%|█████████▍| 1.53G/1.63G [00:38<00:01, 46.0MB/s]\rDownloading:  95%|█████████▍| 1.54G/1.63G [00:38<00:01, 46.2MB/s]\rDownloading:  95%|█████████▌| 1.55G/1.63G [00:38<00:01, 50.2MB/s]\rDownloading:  96%|█████████▌| 1.55G/1.63G [00:38<00:01, 49.9MB/s]\rDownloading:  96%|█████████▌| 1.56G/1.63G [00:38<00:01, 46.0MB/s]\rDownloading:  96%|█████████▌| 1.56G/1.63G [00:38<00:01, 41.9MB/s]\rDownloading:  96%|█████████▋| 1.57G/1.63G [00:38<00:01, 36.4MB/s]\rDownloading:  97%|█████████▋| 1.57G/1.63G [00:39<00:02, 26.7MB/s]\rDownloading:  97%|█████████▋| 1.58G/1.63G [00:39<00:01, 32.1MB/s]\rDownloading:  97%|█████████▋| 1.58G/1.63G [00:39<00:01, 35.6MB/s]\rDownloading:  98%|█████████▊| 1.59G/1.63G [00:39<00:00, 41.8MB/s]\rDownloading:  98%|█████████▊| 1.60G/1.63G [00:39<00:00, 46.7MB/s]\rDownloading:  99%|█████████▊| 1.60G/1.63G [00:39<00:00, 50.6MB/s]\rDownloading:  99%|█████████▉| 1.61G/1.63G [00:39<00:00, 55.2MB/s]\rDownloading:  99%|█████████▉| 1.61G/1.63G [00:39<00:00, 47.6MB/s]\rDownloading: 100%|█████████▉| 1.62G/1.63G [00:39<00:00, 52.0MB/s]\rDownloading: 100%|██████████| 1.63G/1.63G [00:40<00:00, 40.5MB/s]\n",
            "GPU available: True, used: True\n",
            "TPU available: False, using: 0 TPU cores\n",
            "CUDA_VISIBLE_DEVICES: [0]\n",
            "/usr/local/lib/python3.6/dist-packages/torch/optim/lr_scheduler.py:200: UserWarning: Please also save or load the state of the optimzer when saving or loading the scheduler.\n",
            "  warnings.warn(SAVE_STATE_WARNING, UserWarning)\n",
            "./finetune.sh: line 10:   318 Killed                  python finetune.py --learning_rate=3e-5 --gpus 1 --do_train --do_predict --n_val 1000 --val_check_interval 0.1 \"$@\"\n"
          ],
          "name": "stderr"
        }
      ]
    },
    {
      "cell_type": "markdown",
      "metadata": {
        "id": "gCDwd4r-4gRG"
      },
      "source": [
        "# Running Inference on the Dataset"
      ]
    },
    {
      "cell_type": "code",
      "metadata": {
        "id": "Pb0UfuZT7N51"
      },
      "source": [
        "output_dir= 'transformers/examples/seq2seq/xsum_results'"
      ],
      "execution_count": null,
      "outputs": []
    },
    {
      "cell_type": "code",
      "metadata": {
        "id": "8m_a-Gw94mEl"
      },
      "source": [
        "\n",
        "from transformers import AutoModelForSeq2SeqLM\n",
        "model = AutoModelForSeq2SeqLM.from_pretrained(f'{output_dir}/best_tfmr')"
      ],
      "execution_count": null,
      "outputs": []
    },
    {
      "cell_type": "code",
      "metadata": {
        "id": "BrSr2Odh_dgZ",
        "outputId": "4eccc972-cc54-42b4-986b-a9b3a5471dd5",
        "colab": {
          "base_uri": "https://localhost:8080/",
          "height": 88
        }
      },
      "source": [
        "%%bash\n",
        "mkdir gens\n",
        "export DATA_DIR=/content/dcyphr-NLP/fine_tuning_data\n",
        "\n",
        "cd transformers/examples/seq2seq/\n",
        "\n",
        "python run_eval.py facebook/bart-large-cnn \\\n",
        "    $DATA_DIR/test.source gens/peg_xsum_test_generation.txt \\\n",
        "    --reference_path $DATA_DIR/test.target \\\n",
        "    --score_path gens/peg_xsum_rouge.txt --task summarization \\\n",
        "    --device cuda \\\n",
        "    --bs 8"
      ],
      "execution_count": null,
      "outputs": [
        {
          "output_type": "stream",
          "text": [
            "{'rouge1': 31.1196, 'rouge2': 10.823, 'rougeL': 21.4392, 'rougeLsum': 28.715, 'n_obs': 20, 'runtime': 24, 'seconds_per_sample': 1.2}\n"
          ],
          "name": "stdout"
        },
        {
          "output_type": "stream",
          "text": [
            "2020-09-30 23:02:44.000794: I tensorflow/stream_executor/platform/default/dso_loader.cc:48] Successfully opened dynamic library libcudart.so.10.1\n",
            "\r  0%|          | 0/3 [00:00<?, ?it/s]\r 33%|███▎      | 1/3 [00:09<00:19,  9.54s/it]\r 67%|██████▋   | 2/3 [00:19<00:09,  9.69s/it]\r100%|██████████| 3/3 [00:24<00:00,  8.34s/it]\r100%|██████████| 3/3 [00:24<00:00,  8.26s/it]\n"
          ],
          "name": "stderr"
        }
      ]
    },
    {
      "cell_type": "code",
      "metadata": {
        "id": "UB32tSzLTPgN",
        "outputId": "68b8ad3a-4c3a-4e10-b6fc-1db3d4f60291",
        "colab": {
          "base_uri": "https://localhost:8080/",
          "height": 54
        }
      },
      "source": [
        "\n",
        "\n",
        "from transformers import AutoTokenizer\n",
        "tokenizer = AutoTokenizer.from_pretrained('facebook/bart-large-cnn')\n",
        "\n",
        "ARTICLE_TO_SUMMARIZE = \"<NbChars_0.5><LevSim_0.5>The tower is 324 metres (1,063 ft) tall, about the same height as an 81-storey building, and the tallest structure in Paris. Its base is square, measuring 125 metres (410 ft) on each side. During its construction, the Eiffel Tower surpassed the Washington Monument to become the tallest man-made structure in the world, a title it held for 41 years until the Chrysler Building in New York City was finished in 1930. It was the first structure to reach a height of 300 metres. Due to the addition of a broadcasting aerial at the top of the tower in 1957, it is now taller than the Chrysler Building by 5.2 metres (17 ft). Excluding transmitters, the Eiffel Tower is the second tallest free-standing structure in France after the Millau Viaduct.\"\n",
        "ARTICLE_TO_SUMMARISE_TEST = \"My friends are cool but they eat too many carbs.\"\n",
        "inputs = tokenizer([ARTICLE_TO_SUMMARIZE], max_length=1024, return_tensors='pt', truncation=True)\n",
        "\n",
        "# Generate Summary\n",
        "summary_ids = model.generate(inputs['input_ids'], num_beams=4, max_length=500, early_stopping=True)\n",
        "print([tokenizer.decode(g, skip_special_tokens=True, clean_up_tokenization_spaces=False) for g in summary_ids])"
      ],
      "execution_count": null,
      "outputs": [
        {
          "output_type": "stream",
          "text": [
            "['The Eiffel Tower is 324 metres (1,063 ft) tall, about the same height as an 81-storey building. Its base is square, measuring 125 metres (410 ft) on each side. Excluding transmitters, it is the second tallest free-standing structure in France after Millau Viaduct.']\n"
          ],
          "name": "stdout"
        }
      ]
    },
    {
      "cell_type": "code",
      "metadata": {
        "id": "X1p5meG_Quh_",
        "outputId": "572e2950-bfeb-4c86-bce7-461930b56414",
        "colab": {
          "base_uri": "https://localhost:8080/",
          "height": 221
        }
      },
      "source": [
        "%%bash\n",
        "\n",
        "# zipping the model \n",
        "zip -r /content/model.zip /content/transformers/examples/seq2seq/xsum_results/\n"
      ],
      "execution_count": null,
      "outputs": [
        {
          "output_type": "stream",
          "text": [
            "  adding: content/transformers/examples/seq2seq/xsum_results/ (stored 0%)\n",
            "  adding: content/transformers/examples/seq2seq/xsum_results/metrics.json (deflated 81%)\n",
            "  adding: content/transformers/examples/seq2seq/xsum_results/hparams.pkl (deflated 45%)\n",
            "  adding: content/transformers/examples/seq2seq/xsum_results/val_avg_rouge2=12.4437-step_count=4.ckpt (deflated 8%)\n",
            "  adding: content/transformers/examples/seq2seq/xsum_results/best_tfmr/ (stored 0%)\n",
            "  adding: content/transformers/examples/seq2seq/xsum_results/best_tfmr/vocab.json (deflated 63%)\n",
            "  adding: content/transformers/examples/seq2seq/xsum_results/best_tfmr/merges.txt (deflated 53%)\n",
            "  adding: content/transformers/examples/seq2seq/xsum_results/best_tfmr/pytorch_model.bin (deflated 7%)\n",
            "  adding: content/transformers/examples/seq2seq/xsum_results/best_tfmr/special_tokens_map.json (deflated 83%)\n",
            "  adding: content/transformers/examples/seq2seq/xsum_results/best_tfmr/tokenizer_config.json (stored 0%)\n",
            "  adding: content/transformers/examples/seq2seq/xsum_results/best_tfmr/config.json (deflated 63%)\n",
            "  adding: content/transformers/examples/seq2seq/xsum_results/git_log.json (deflated 26%)\n"
          ],
          "name": "stdout"
        }
      ]
    },
    {
      "cell_type": "code",
      "metadata": {
        "id": "-w_FIJlGUsmZ",
        "outputId": "1a62e48e-e74b-455f-e5af-7ec280685d14",
        "colab": {
          "base_uri": "https://localhost:8080/",
          "height": 34
        }
      },
      "source": [
        "# Downloading zip file\n",
        "\n",
        "from google.colab import files\n",
        "files.download(\"/content/model.zip\")"
      ],
      "execution_count": null,
      "outputs": [
        {
          "output_type": "display_data",
          "data": {
            "application/javascript": [
              "\n",
              "    async function download(id, filename, size) {\n",
              "      if (!google.colab.kernel.accessAllowed) {\n",
              "        return;\n",
              "      }\n",
              "      const div = document.createElement('div');\n",
              "      const label = document.createElement('label');\n",
              "      label.textContent = `Downloading \"${filename}\": `;\n",
              "      div.appendChild(label);\n",
              "      const progress = document.createElement('progress');\n",
              "      progress.max = size;\n",
              "      div.appendChild(progress);\n",
              "      document.body.appendChild(div);\n",
              "\n",
              "      const buffers = [];\n",
              "      let downloaded = 0;\n",
              "\n",
              "      const channel = await google.colab.kernel.comms.open(id);\n",
              "      // Send a message to notify the kernel that we're ready.\n",
              "      channel.send({})\n",
              "\n",
              "      for await (const message of channel.messages) {\n",
              "        // Send a message to notify the kernel that we're ready.\n",
              "        channel.send({})\n",
              "        if (message.buffers) {\n",
              "          for (const buffer of message.buffers) {\n",
              "            buffers.push(buffer);\n",
              "            downloaded += buffer.byteLength;\n",
              "            progress.value = downloaded;\n",
              "          }\n",
              "        }\n",
              "      }\n",
              "      const blob = new Blob(buffers, {type: 'application/binary'});\n",
              "      const a = document.createElement('a');\n",
              "      a.href = window.URL.createObjectURL(blob);\n",
              "      a.download = filename;\n",
              "      div.appendChild(a);\n",
              "      a.click();\n",
              "      div.remove();\n",
              "    }\n",
              "  "
            ],
            "text/plain": [
              "<IPython.core.display.Javascript object>"
            ]
          },
          "metadata": {
            "tags": []
          }
        },
        {
          "output_type": "display_data",
          "data": {
            "application/javascript": [
              "download(\"download_e3a13626-834f-45ff-9d91-79710fe2572a\", \"model.zip\", 5995053637)"
            ],
            "text/plain": [
              "<IPython.core.display.Javascript object>"
            ]
          },
          "metadata": {
            "tags": []
          }
        }
      ]
    }
  ]
}